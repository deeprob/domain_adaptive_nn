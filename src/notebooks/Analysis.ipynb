{
 "cells": [
  {
   "cell_type": "code",
   "execution_count": 1,
   "id": "c89f5367",
   "metadata": {},
   "outputs": [],
   "source": [
    "from sklearn.metrics import precision_recall_curve, average_precision_score, auc\n",
    "import pandas as pd\n",
    "import matplotlib.pyplot as plt\n",
    "%matplotlib inline\n",
    "import numpy as np"
   ]
  },
  {
   "cell_type": "code",
   "execution_count": 2,
   "id": "f7e0bef7",
   "metadata": {},
   "outputs": [],
   "source": [
    "def get_pr_scores(results_file):\n",
    "    \n",
    "    results_df = pd.read_csv(results_file, header=None)\n",
    "    y_pred = results_df[0].values\n",
    "    y_true = results_df[1].values\n",
    "    \n",
    "    precision, recall, thresholds = precision_recall_curve(y_true, y_pred)\n",
    "    avg_score = average_precision_score(y_true, y_pred) \n",
    "    \n",
    "    return avg_score, precision, recall, thresholds\n",
    "\n",
    "\n",
    "def get_auprc(precision, recall):\n",
    "    # x must be monotonically increasing or decreasing\n",
    "    return auc(precision, recall)\n",
    "\n",
    "\n",
    "def get_classwise_accuracy(results_file, threshold=0.5):\n",
    "    df = pd.read_csv(results_file, header=None)\n",
    "    pos_df = df.loc[df[1]==1]\n",
    "    neg_df = df.loc[df[1]==0]\n",
    "    pos_acc = len(pos_df.loc[pos_df[0]>threshold])/len(pos_df)\n",
    "    neg_acc = len(neg_df.loc[neg_df[0]<=threshold])/len(neg_df)\n",
    "    return pos_acc, neg_acc"
   ]
  },
  {
   "cell_type": "code",
   "execution_count": 3,
   "id": "8b8278e1",
   "metadata": {},
   "outputs": [],
   "source": [
    "# GLOBALS\n",
    "PILOT=False\n",
    "MODEL_NAME=\"adda\"\n",
    "\n",
    "if PILOT:\n",
    "    suffix = \"_pilot\"\n",
    "else:\n",
    "    suffix = \"\"\n",
    "\n",
    "TF=\"CTCF\"\n",
    "SRC_GENOME=\"mm10\""
   ]
  },
  {
   "cell_type": "code",
   "execution_count": 4,
   "id": "4448e7be",
   "metadata": {
    "scrolled": true
   },
   "outputs": [
    {
     "name": "stdout",
     "output_type": "stream",
     "text": [
      "The source filepath is ../../results/mm10/CTCF/hybrid_src.csv.gz\n",
      "The target filepath is ../../results/mm10/CTCF/adda_tgt.csv.gz\n"
     ]
    }
   ],
   "source": [
    "source_file = f\"../../results/{SRC_GENOME}/{TF}/hybrid{suffix}_src.csv.gz\"\n",
    "target_file = f\"../../results/{SRC_GENOME}/{TF}/{MODEL_NAME}{suffix}_tgt.csv.gz\"\n",
    "print(f\"The source filepath is {source_file}\\nThe target filepath is {target_file}\")"
   ]
  },
  {
   "cell_type": "code",
   "execution_count": 5,
   "id": "15f75a48",
   "metadata": {
    "scrolled": true
   },
   "outputs": [],
   "source": [
    "source_metrics = get_pr_scores(source_file)"
   ]
  },
  {
   "cell_type": "code",
   "execution_count": 6,
   "id": "7a8685c2",
   "metadata": {},
   "outputs": [],
   "source": [
    "target_metrics = get_pr_scores(target_file)"
   ]
  },
  {
   "cell_type": "code",
   "execution_count": 7,
   "id": "baae265f",
   "metadata": {
    "scrolled": true
   },
   "outputs": [
    {
     "name": "stdout",
     "output_type": "stream",
     "text": [
      "The average source precision score is 0.65490014246038\n",
      "The average target precision score is 0.5146416470991297\n"
     ]
    }
   ],
   "source": [
    "# average precision\n",
    "print(f\"The average source precision score is {source_metrics[0]}\\nThe average target precision score is {target_metrics[0]}\")"
   ]
  },
  {
   "cell_type": "code",
   "execution_count": 8,
   "id": "80a91f52",
   "metadata": {},
   "outputs": [
    {
     "name": "stdout",
     "output_type": "stream",
     "text": [
      "The area under the PR curve for source is 0.6548738743411113\n",
      "The area under the PR curve for target is 0.5146313772556158\n"
     ]
    }
   ],
   "source": [
    "# AUPRC\n",
    "print(f\"The area under the PR curve for source is {get_auprc(source_metrics[2], source_metrics[1])}\\nThe area under the PR curve for target is {get_auprc(target_metrics[2], target_metrics[1])}\")"
   ]
  },
  {
   "cell_type": "code",
   "execution_count": 9,
   "id": "2b4c11ad",
   "metadata": {},
   "outputs": [
    {
     "name": "stdout",
     "output_type": "stream",
     "text": [
      "The source PR Curve\n"
     ]
    },
    {
     "data": {
      "image/png": "[encoded data removed]",
      "text/plain": [
       "<Figure size 432x288 with 1 Axes>"
      ]
     },
     "metadata": {
      "needs_background": "light"
     },
     "output_type": "display_data"
    }
   ],
   "source": [
    "print(\"The source PR Curve\")\n",
    "plt.plot(source_metrics[2], source_metrics[1]); # xaxis recall, yaxis precision"
   ]
  },
  {
   "cell_type": "code",
   "execution_count": 10,
   "id": "401ae83e",
   "metadata": {
    "scrolled": true
   },
   "outputs": [
    {
     "name": "stdout",
     "output_type": "stream",
     "text": [
      "The target PR Curve\n"
     ]
    },
    {
     "data": {
      "image/png": "[encoded data removed]",
      "text/plain": [
       "<Figure size 432x288 with 1 Axes>"
      ]
     },
     "metadata": {
      "needs_background": "light"
     },
     "output_type": "display_data"
    }
   ],
   "source": [
    "print(\"The target PR Curve\")\n",
    "plt.plot(target_metrics[2], target_metrics[1]); # xaxis recall, yaxis precision"
   ]
  },
  {
   "cell_type": "code",
   "execution_count": 11,
   "id": "f05b0f4d",
   "metadata": {},
   "outputs": [],
   "source": [
    "df_src = pd.read_csv(source_file, header= None)"
   ]
  },
  {
   "cell_type": "code",
   "execution_count": 12,
   "id": "6257fa25",
   "metadata": {},
   "outputs": [
    {
     "data": {
      "text/html": [
       "<div>\n",
       "<style scoped>\n",
       "    .dataframe tbody tr th:only-of-type {\n",
       "        vertical-align: middle;\n",
       "    }\n",
       "\n",
       "    .dataframe tbody tr th {\n",
       "        vertical-align: top;\n",
       "    }\n",
       "\n",
       "    .dataframe thead th {\n",
       "        text-align: right;\n",
       "    }\n",
       "</style>\n",
       "<table border=\"1\" class=\"dataframe\">\n",
       "  <thead>\n",
       "    <tr style=\"text-align: right;\">\n",
       "      <th></th>\n",
       "      <th>0</th>\n",
       "      <th>1</th>\n",
       "      <th>2</th>\n",
       "      <th>3</th>\n",
       "      <th>4</th>\n",
       "    </tr>\n",
       "  </thead>\n",
       "  <tbody>\n",
       "    <tr>\n",
       "      <th>0</th>\n",
       "      <td>0.004190</td>\n",
       "      <td>0</td>\n",
       "      <td>chr2</td>\n",
       "      <td>3050950</td>\n",
       "      <td>3051450</td>\n",
       "    </tr>\n",
       "    <tr>\n",
       "      <th>1</th>\n",
       "      <td>0.003400</td>\n",
       "      <td>0</td>\n",
       "      <td>chr2</td>\n",
       "      <td>3051000</td>\n",
       "      <td>3051500</td>\n",
       "    </tr>\n",
       "    <tr>\n",
       "      <th>2</th>\n",
       "      <td>0.006197</td>\n",
       "      <td>0</td>\n",
       "      <td>chr2</td>\n",
       "      <td>3051050</td>\n",
       "      <td>3051550</td>\n",
       "    </tr>\n",
       "    <tr>\n",
       "      <th>3</th>\n",
       "      <td>0.006562</td>\n",
       "      <td>0</td>\n",
       "      <td>chr2</td>\n",
       "      <td>3051100</td>\n",
       "      <td>3051600</td>\n",
       "    </tr>\n",
       "    <tr>\n",
       "      <th>4</th>\n",
       "      <td>0.007699</td>\n",
       "      <td>0</td>\n",
       "      <td>chr2</td>\n",
       "      <td>3051150</td>\n",
       "      <td>3051650</td>\n",
       "    </tr>\n",
       "    <tr>\n",
       "      <th>...</th>\n",
       "      <td>...</td>\n",
       "      <td>...</td>\n",
       "      <td>...</td>\n",
       "      <td>...</td>\n",
       "      <td>...</td>\n",
       "    </tr>\n",
       "    <tr>\n",
       "      <th>3164246</th>\n",
       "      <td>0.987238</td>\n",
       "      <td>0</td>\n",
       "      <td>chr2</td>\n",
       "      <td>182012150</td>\n",
       "      <td>182012650</td>\n",
       "    </tr>\n",
       "    <tr>\n",
       "      <th>3164247</th>\n",
       "      <td>0.990415</td>\n",
       "      <td>0</td>\n",
       "      <td>chr2</td>\n",
       "      <td>182012200</td>\n",
       "      <td>182012700</td>\n",
       "    </tr>\n",
       "    <tr>\n",
       "      <th>3164248</th>\n",
       "      <td>0.988894</td>\n",
       "      <td>0</td>\n",
       "      <td>chr2</td>\n",
       "      <td>182012250</td>\n",
       "      <td>182012750</td>\n",
       "    </tr>\n",
       "    <tr>\n",
       "      <th>3164249</th>\n",
       "      <td>0.989871</td>\n",
       "      <td>0</td>\n",
       "      <td>chr2</td>\n",
       "      <td>182012300</td>\n",
       "      <td>182012800</td>\n",
       "    </tr>\n",
       "    <tr>\n",
       "      <th>3164250</th>\n",
       "      <td>0.989811</td>\n",
       "      <td>0</td>\n",
       "      <td>chr2</td>\n",
       "      <td>182012350</td>\n",
       "      <td>182012850</td>\n",
       "    </tr>\n",
       "  </tbody>\n",
       "</table>\n",
       "<p>3164251 rows × 5 columns</p>\n",
       "</div>"
      ],
      "text/plain": [
       "                0  1     2          3          4\n",
       "0        0.004190  0  chr2    3050950    3051450\n",
       "1        0.003400  0  chr2    3051000    3051500\n",
       "2        0.006197  0  chr2    3051050    3051550\n",
       "3        0.006562  0  chr2    3051100    3051600\n",
       "4        0.007699  0  chr2    3051150    3051650\n",
       "...           ... ..   ...        ...        ...\n",
       "3164246  0.987238  0  chr2  182012150  182012650\n",
       "3164247  0.990415  0  chr2  182012200  182012700\n",
       "3164248  0.988894  0  chr2  182012250  182012750\n",
       "3164249  0.989871  0  chr2  182012300  182012800\n",
       "3164250  0.989811  0  chr2  182012350  182012850\n",
       "\n",
       "[3164251 rows x 5 columns]"
      ]
     },
     "execution_count": 12,
     "metadata": {},
     "output_type": "execute_result"
    }
   ],
   "source": [
    "df_src"
   ]
  },
  {
   "cell_type": "code",
   "execution_count": 26,
   "id": "25fff1df",
   "metadata": {},
   "outputs": [],
   "source": [
    "adda_src_file = source_file.replace(\"drcn\", \"adda\")"
   ]
  },
  {
   "cell_type": "code",
   "execution_count": 27,
   "id": "70479009",
   "metadata": {},
   "outputs": [],
   "source": [
    "df_src_adda = pd.read_csv(adda_src_file, header=None)"
   ]
  },
  {
   "cell_type": "code",
   "execution_count": 28,
   "id": "30a40510",
   "metadata": {},
   "outputs": [
    {
     "data": {
      "text/html": [
       "<div>\n",
       "<style scoped>\n",
       "    .dataframe tbody tr th:only-of-type {\n",
       "        vertical-align: middle;\n",
       "    }\n",
       "\n",
       "    .dataframe tbody tr th {\n",
       "        vertical-align: top;\n",
       "    }\n",
       "\n",
       "    .dataframe thead th {\n",
       "        text-align: right;\n",
       "    }\n",
       "</style>\n",
       "<table border=\"1\" class=\"dataframe\">\n",
       "  <thead>\n",
       "    <tr style=\"text-align: right;\">\n",
       "      <th></th>\n",
       "      <th>0</th>\n",
       "      <th>1</th>\n",
       "      <th>2</th>\n",
       "      <th>3</th>\n",
       "      <th>4</th>\n",
       "    </tr>\n",
       "  </thead>\n",
       "  <tbody>\n",
       "    <tr>\n",
       "      <th>0</th>\n",
       "      <td>0.003723</td>\n",
       "      <td>0</td>\n",
       "      <td>chr2</td>\n",
       "      <td>3050950</td>\n",
       "      <td>3051450</td>\n",
       "    </tr>\n",
       "    <tr>\n",
       "      <th>1</th>\n",
       "      <td>0.005910</td>\n",
       "      <td>0</td>\n",
       "      <td>chr2</td>\n",
       "      <td>3051000</td>\n",
       "      <td>3051500</td>\n",
       "    </tr>\n",
       "    <tr>\n",
       "      <th>2</th>\n",
       "      <td>0.010738</td>\n",
       "      <td>0</td>\n",
       "      <td>chr2</td>\n",
       "      <td>3051050</td>\n",
       "      <td>3051550</td>\n",
       "    </tr>\n",
       "    <tr>\n",
       "      <th>3</th>\n",
       "      <td>0.011434</td>\n",
       "      <td>0</td>\n",
       "      <td>chr2</td>\n",
       "      <td>3051100</td>\n",
       "      <td>3051600</td>\n",
       "    </tr>\n",
       "    <tr>\n",
       "      <th>4</th>\n",
       "      <td>0.010707</td>\n",
       "      <td>0</td>\n",
       "      <td>chr2</td>\n",
       "      <td>3051150</td>\n",
       "      <td>3051650</td>\n",
       "    </tr>\n",
       "    <tr>\n",
       "      <th>...</th>\n",
       "      <td>...</td>\n",
       "      <td>...</td>\n",
       "      <td>...</td>\n",
       "      <td>...</td>\n",
       "      <td>...</td>\n",
       "    </tr>\n",
       "    <tr>\n",
       "      <th>3164246</th>\n",
       "      <td>0.009750</td>\n",
       "      <td>0</td>\n",
       "      <td>chr2</td>\n",
       "      <td>182012150</td>\n",
       "      <td>182012650</td>\n",
       "    </tr>\n",
       "    <tr>\n",
       "      <th>3164247</th>\n",
       "      <td>0.011198</td>\n",
       "      <td>0</td>\n",
       "      <td>chr2</td>\n",
       "      <td>182012200</td>\n",
       "      <td>182012700</td>\n",
       "    </tr>\n",
       "    <tr>\n",
       "      <th>3164248</th>\n",
       "      <td>0.005262</td>\n",
       "      <td>0</td>\n",
       "      <td>chr2</td>\n",
       "      <td>182012250</td>\n",
       "      <td>182012750</td>\n",
       "    </tr>\n",
       "    <tr>\n",
       "      <th>3164249</th>\n",
       "      <td>0.004385</td>\n",
       "      <td>0</td>\n",
       "      <td>chr2</td>\n",
       "      <td>182012300</td>\n",
       "      <td>182012800</td>\n",
       "    </tr>\n",
       "    <tr>\n",
       "      <th>3164250</th>\n",
       "      <td>0.005349</td>\n",
       "      <td>0</td>\n",
       "      <td>chr2</td>\n",
       "      <td>182012350</td>\n",
       "      <td>182012850</td>\n",
       "    </tr>\n",
       "  </tbody>\n",
       "</table>\n",
       "<p>3164251 rows × 5 columns</p>\n",
       "</div>"
      ],
      "text/plain": [
       "                0  1     2          3          4\n",
       "0        0.003723  0  chr2    3050950    3051450\n",
       "1        0.005910  0  chr2    3051000    3051500\n",
       "2        0.010738  0  chr2    3051050    3051550\n",
       "3        0.011434  0  chr2    3051100    3051600\n",
       "4        0.010707  0  chr2    3051150    3051650\n",
       "...           ... ..   ...        ...        ...\n",
       "3164246  0.009750  0  chr2  182012150  182012650\n",
       "3164247  0.011198  0  chr2  182012200  182012700\n",
       "3164248  0.005262  0  chr2  182012250  182012750\n",
       "3164249  0.004385  0  chr2  182012300  182012800\n",
       "3164250  0.005349  0  chr2  182012350  182012850\n",
       "\n",
       "[3164251 rows x 5 columns]"
      ]
     },
     "execution_count": 28,
     "metadata": {},
     "output_type": "execute_result"
    }
   ],
   "source": [
    "df_src_adda"
   ]
  },
  {
   "cell_type": "code",
   "execution_count": 16,
   "id": "f6a679c1",
   "metadata": {},
   "outputs": [
    {
     "data": {
      "text/html": [
       "<div>\n",
       "<style scoped>\n",
       "    .dataframe tbody tr th:only-of-type {\n",
       "        vertical-align: middle;\n",
       "    }\n",
       "\n",
       "    .dataframe tbody tr th {\n",
       "        vertical-align: top;\n",
       "    }\n",
       "\n",
       "    .dataframe thead th {\n",
       "        text-align: right;\n",
       "    }\n",
       "</style>\n",
       "<table border=\"1\" class=\"dataframe\">\n",
       "  <thead>\n",
       "    <tr style=\"text-align: right;\">\n",
       "      <th></th>\n",
       "      <th>0</th>\n",
       "      <th>1</th>\n",
       "      <th>2</th>\n",
       "      <th>3</th>\n",
       "      <th>4</th>\n",
       "    </tr>\n",
       "  </thead>\n",
       "  <tbody>\n",
       "  </tbody>\n",
       "</table>\n",
       "</div>"
      ],
      "text/plain": [
       "Empty DataFrame\n",
       "Columns: [0, 1, 2, 3, 4]\n",
       "Index: []"
      ]
     },
     "execution_count": 16,
     "metadata": {},
     "output_type": "execute_result"
    }
   ],
   "source": [
    "df_src.loc[~df_src[3].eq(df_src_adda[3])]"
   ]
  },
  {
   "cell_type": "code",
   "execution_count": 17,
   "id": "6f859a94",
   "metadata": {},
   "outputs": [
    {
     "data": {
      "text/html": [
       "<div>\n",
       "<style scoped>\n",
       "    .dataframe tbody tr th:only-of-type {\n",
       "        vertical-align: middle;\n",
       "    }\n",
       "\n",
       "    .dataframe tbody tr th {\n",
       "        vertical-align: top;\n",
       "    }\n",
       "\n",
       "    .dataframe thead th {\n",
       "        text-align: right;\n",
       "    }\n",
       "</style>\n",
       "<table border=\"1\" class=\"dataframe\">\n",
       "  <thead>\n",
       "    <tr style=\"text-align: right;\">\n",
       "      <th></th>\n",
       "      <th>0</th>\n",
       "      <th>1</th>\n",
       "      <th>2</th>\n",
       "      <th>3</th>\n",
       "      <th>4</th>\n",
       "    </tr>\n",
       "  </thead>\n",
       "  <tbody>\n",
       "  </tbody>\n",
       "</table>\n",
       "</div>"
      ],
      "text/plain": [
       "Empty DataFrame\n",
       "Columns: [0, 1, 2, 3, 4]\n",
       "Index: []"
      ]
     },
     "execution_count": 17,
     "metadata": {},
     "output_type": "execute_result"
    }
   ],
   "source": [
    "df_src_adda.loc[~df_src[1].eq(df_src_adda[1])]"
   ]
  },
  {
   "cell_type": "code",
   "execution_count": 18,
   "id": "daed286b",
   "metadata": {},
   "outputs": [
    {
     "data": {
      "text/plain": [
       "False"
      ]
     },
     "execution_count": 18,
     "metadata": {},
     "output_type": "execute_result"
    }
   ],
   "source": [
    "df_src_adda.equals(df_src)"
   ]
  },
  {
   "cell_type": "code",
   "execution_count": 19,
   "id": "9d935d47",
   "metadata": {},
   "outputs": [
    {
     "data": {
      "text/plain": [
       "array(['chr2'], dtype=object)"
      ]
     },
     "execution_count": 19,
     "metadata": {},
     "output_type": "execute_result"
    }
   ],
   "source": [
    "df_src[2].unique()"
   ]
  },
  {
   "cell_type": "code",
   "execution_count": 20,
   "id": "ec0a2184",
   "metadata": {},
   "outputs": [
    {
     "data": {
      "text/plain": [
       "3164251"
      ]
     },
     "execution_count": 20,
     "metadata": {},
     "output_type": "execute_result"
    }
   ],
   "source": [
    "len(df_src)"
   ]
  },
  {
   "cell_type": "code",
   "execution_count": 21,
   "id": "2f6499c7",
   "metadata": {},
   "outputs": [],
   "source": [
    "df = pd.read_csv(target_file, header=None)"
   ]
  },
  {
   "cell_type": "code",
   "execution_count": 22,
   "id": "90c58a32",
   "metadata": {},
   "outputs": [
    {
     "data": {
      "text/plain": [
       "4339180"
      ]
     },
     "execution_count": 22,
     "metadata": {},
     "output_type": "execute_result"
    }
   ],
   "source": [
    "len(df)"
   ]
  },
  {
   "cell_type": "code",
   "execution_count": 23,
   "id": "ea015f21",
   "metadata": {},
   "outputs": [
    {
     "data": {
      "text/html": [
       "<div>\n",
       "<style scoped>\n",
       "    .dataframe tbody tr th:only-of-type {\n",
       "        vertical-align: middle;\n",
       "    }\n",
       "\n",
       "    .dataframe tbody tr th {\n",
       "        vertical-align: top;\n",
       "    }\n",
       "\n",
       "    .dataframe thead th {\n",
       "        text-align: right;\n",
       "    }\n",
       "</style>\n",
       "<table border=\"1\" class=\"dataframe\">\n",
       "  <thead>\n",
       "    <tr style=\"text-align: right;\">\n",
       "      <th></th>\n",
       "      <th>0</th>\n",
       "      <th>1</th>\n",
       "      <th>2</th>\n",
       "      <th>3</th>\n",
       "      <th>4</th>\n",
       "    </tr>\n",
       "  </thead>\n",
       "  <tbody>\n",
       "    <tr>\n",
       "      <th>0</th>\n",
       "      <td>0.035552</td>\n",
       "      <td>0</td>\n",
       "      <td>chr2</td>\n",
       "      <td>10000</td>\n",
       "      <td>10500</td>\n",
       "    </tr>\n",
       "    <tr>\n",
       "      <th>1</th>\n",
       "      <td>0.041173</td>\n",
       "      <td>0</td>\n",
       "      <td>chr2</td>\n",
       "      <td>10050</td>\n",
       "      <td>10550</td>\n",
       "    </tr>\n",
       "    <tr>\n",
       "      <th>2</th>\n",
       "      <td>0.042659</td>\n",
       "      <td>0</td>\n",
       "      <td>chr2</td>\n",
       "      <td>10100</td>\n",
       "      <td>10600</td>\n",
       "    </tr>\n",
       "    <tr>\n",
       "      <th>3</th>\n",
       "      <td>0.060350</td>\n",
       "      <td>0</td>\n",
       "      <td>chr2</td>\n",
       "      <td>10150</td>\n",
       "      <td>10650</td>\n",
       "    </tr>\n",
       "    <tr>\n",
       "      <th>4</th>\n",
       "      <td>0.029139</td>\n",
       "      <td>0</td>\n",
       "      <td>chr2</td>\n",
       "      <td>10200</td>\n",
       "      <td>10700</td>\n",
       "    </tr>\n",
       "    <tr>\n",
       "      <th>...</th>\n",
       "      <td>...</td>\n",
       "      <td>...</td>\n",
       "      <td>...</td>\n",
       "      <td>...</td>\n",
       "      <td>...</td>\n",
       "    </tr>\n",
       "    <tr>\n",
       "      <th>4339175</th>\n",
       "      <td>0.690603</td>\n",
       "      <td>0</td>\n",
       "      <td>chr2</td>\n",
       "      <td>242107000</td>\n",
       "      <td>242107500</td>\n",
       "    </tr>\n",
       "    <tr>\n",
       "      <th>4339176</th>\n",
       "      <td>0.240687</td>\n",
       "      <td>0</td>\n",
       "      <td>chr2</td>\n",
       "      <td>242107050</td>\n",
       "      <td>242107550</td>\n",
       "    </tr>\n",
       "    <tr>\n",
       "      <th>4339177</th>\n",
       "      <td>0.541963</td>\n",
       "      <td>0</td>\n",
       "      <td>chr2</td>\n",
       "      <td>242107100</td>\n",
       "      <td>242107600</td>\n",
       "    </tr>\n",
       "    <tr>\n",
       "      <th>4339178</th>\n",
       "      <td>0.900081</td>\n",
       "      <td>0</td>\n",
       "      <td>chr2</td>\n",
       "      <td>242107150</td>\n",
       "      <td>242107650</td>\n",
       "    </tr>\n",
       "    <tr>\n",
       "      <th>4339179</th>\n",
       "      <td>0.863795</td>\n",
       "      <td>0</td>\n",
       "      <td>chr2</td>\n",
       "      <td>242107200</td>\n",
       "      <td>242107700</td>\n",
       "    </tr>\n",
       "  </tbody>\n",
       "</table>\n",
       "<p>4339180 rows × 5 columns</p>\n",
       "</div>"
      ],
      "text/plain": [
       "                0  1     2          3          4\n",
       "0        0.035552  0  chr2      10000      10500\n",
       "1        0.041173  0  chr2      10050      10550\n",
       "2        0.042659  0  chr2      10100      10600\n",
       "3        0.060350  0  chr2      10150      10650\n",
       "4        0.029139  0  chr2      10200      10700\n",
       "...           ... ..   ...        ...        ...\n",
       "4339175  0.690603  0  chr2  242107000  242107500\n",
       "4339176  0.240687  0  chr2  242107050  242107550\n",
       "4339177  0.541963  0  chr2  242107100  242107600\n",
       "4339178  0.900081  0  chr2  242107150  242107650\n",
       "4339179  0.863795  0  chr2  242107200  242107700\n",
       "\n",
       "[4339180 rows x 5 columns]"
      ]
     },
     "execution_count": 23,
     "metadata": {},
     "output_type": "execute_result"
    }
   ],
   "source": [
    "df"
   ]
  },
  {
   "cell_type": "code",
   "execution_count": 24,
   "id": "f9421c19",
   "metadata": {
    "scrolled": false
   },
   "outputs": [
    {
     "data": {
      "text/html": [
       "<div>\n",
       "<style scoped>\n",
       "    .dataframe tbody tr th:only-of-type {\n",
       "        vertical-align: middle;\n",
       "    }\n",
       "\n",
       "    .dataframe tbody tr th {\n",
       "        vertical-align: top;\n",
       "    }\n",
       "\n",
       "    .dataframe thead th {\n",
       "        text-align: right;\n",
       "    }\n",
       "</style>\n",
       "<table border=\"1\" class=\"dataframe\">\n",
       "  <thead>\n",
       "    <tr style=\"text-align: right;\">\n",
       "      <th></th>\n",
       "      <th>0</th>\n",
       "      <th>1</th>\n",
       "      <th>2</th>\n",
       "      <th>3</th>\n",
       "      <th>4</th>\n",
       "    </tr>\n",
       "  </thead>\n",
       "  <tbody>\n",
       "    <tr>\n",
       "      <th>178</th>\n",
       "      <td>0.896671</td>\n",
       "      <td>1</td>\n",
       "      <td>chr2</td>\n",
       "      <td>20100</td>\n",
       "      <td>20600</td>\n",
       "    </tr>\n",
       "    <tr>\n",
       "      <th>179</th>\n",
       "      <td>0.969649</td>\n",
       "      <td>1</td>\n",
       "      <td>chr2</td>\n",
       "      <td>20150</td>\n",
       "      <td>20650</td>\n",
       "    </tr>\n",
       "    <tr>\n",
       "      <th>180</th>\n",
       "      <td>0.981556</td>\n",
       "      <td>1</td>\n",
       "      <td>chr2</td>\n",
       "      <td>20200</td>\n",
       "      <td>20700</td>\n",
       "    </tr>\n",
       "    <tr>\n",
       "      <th>181</th>\n",
       "      <td>0.967872</td>\n",
       "      <td>1</td>\n",
       "      <td>chr2</td>\n",
       "      <td>20250</td>\n",
       "      <td>20750</td>\n",
       "    </tr>\n",
       "    <tr>\n",
       "      <th>182</th>\n",
       "      <td>0.958939</td>\n",
       "      <td>1</td>\n",
       "      <td>chr2</td>\n",
       "      <td>20300</td>\n",
       "      <td>20800</td>\n",
       "    </tr>\n",
       "    <tr>\n",
       "      <th>...</th>\n",
       "      <td>...</td>\n",
       "      <td>...</td>\n",
       "      <td>...</td>\n",
       "      <td>...</td>\n",
       "      <td>...</td>\n",
       "    </tr>\n",
       "    <tr>\n",
       "      <th>4338853</th>\n",
       "      <td>0.983281</td>\n",
       "      <td>1</td>\n",
       "      <td>chr2</td>\n",
       "      <td>242080750</td>\n",
       "      <td>242081250</td>\n",
       "    </tr>\n",
       "    <tr>\n",
       "      <th>4338854</th>\n",
       "      <td>0.972038</td>\n",
       "      <td>1</td>\n",
       "      <td>chr2</td>\n",
       "      <td>242080800</td>\n",
       "      <td>242081300</td>\n",
       "    </tr>\n",
       "    <tr>\n",
       "      <th>4338855</th>\n",
       "      <td>0.968932</td>\n",
       "      <td>1</td>\n",
       "      <td>chr2</td>\n",
       "      <td>242080850</td>\n",
       "      <td>242081350</td>\n",
       "    </tr>\n",
       "    <tr>\n",
       "      <th>4338856</th>\n",
       "      <td>0.963089</td>\n",
       "      <td>1</td>\n",
       "      <td>chr2</td>\n",
       "      <td>242080900</td>\n",
       "      <td>242081400</td>\n",
       "    </tr>\n",
       "    <tr>\n",
       "      <th>4338857</th>\n",
       "      <td>0.605349</td>\n",
       "      <td>1</td>\n",
       "      <td>chr2</td>\n",
       "      <td>242080950</td>\n",
       "      <td>242081450</td>\n",
       "    </tr>\n",
       "  </tbody>\n",
       "</table>\n",
       "<p>25616 rows × 5 columns</p>\n",
       "</div>"
      ],
      "text/plain": [
       "                0  1     2          3          4\n",
       "178      0.896671  1  chr2      20100      20600\n",
       "179      0.969649  1  chr2      20150      20650\n",
       "180      0.981556  1  chr2      20200      20700\n",
       "181      0.967872  1  chr2      20250      20750\n",
       "182      0.958939  1  chr2      20300      20800\n",
       "...           ... ..   ...        ...        ...\n",
       "4338853  0.983281  1  chr2  242080750  242081250\n",
       "4338854  0.972038  1  chr2  242080800  242081300\n",
       "4338855  0.968932  1  chr2  242080850  242081350\n",
       "4338856  0.963089  1  chr2  242080900  242081400\n",
       "4338857  0.605349  1  chr2  242080950  242081450\n",
       "\n",
       "[25616 rows x 5 columns]"
      ]
     },
     "execution_count": 24,
     "metadata": {},
     "output_type": "execute_result"
    }
   ],
   "source": [
    "df.loc[df[1]==1]"
   ]
  },
  {
   "cell_type": "code",
   "execution_count": 25,
   "id": "fd969a5c",
   "metadata": {
    "scrolled": false
   },
   "outputs": [
    {
     "data": {
      "text/html": [
       "<div>\n",
       "<style scoped>\n",
       "    .dataframe tbody tr th:only-of-type {\n",
       "        vertical-align: middle;\n",
       "    }\n",
       "\n",
       "    .dataframe tbody tr th {\n",
       "        vertical-align: top;\n",
       "    }\n",
       "\n",
       "    .dataframe thead th {\n",
       "        text-align: right;\n",
       "    }\n",
       "</style>\n",
       "<table border=\"1\" class=\"dataframe\">\n",
       "  <thead>\n",
       "    <tr style=\"text-align: right;\">\n",
       "      <th></th>\n",
       "      <th>0</th>\n",
       "      <th>1</th>\n",
       "      <th>2</th>\n",
       "      <th>3</th>\n",
       "      <th>4</th>\n",
       "    </tr>\n",
       "  </thead>\n",
       "  <tbody>\n",
       "    <tr>\n",
       "      <th>178</th>\n",
       "      <td>0.896671</td>\n",
       "      <td>1</td>\n",
       "      <td>chr2</td>\n",
       "      <td>20100</td>\n",
       "      <td>20600</td>\n",
       "    </tr>\n",
       "    <tr>\n",
       "      <th>179</th>\n",
       "      <td>0.969649</td>\n",
       "      <td>1</td>\n",
       "      <td>chr2</td>\n",
       "      <td>20150</td>\n",
       "      <td>20650</td>\n",
       "    </tr>\n",
       "    <tr>\n",
       "      <th>180</th>\n",
       "      <td>0.981556</td>\n",
       "      <td>1</td>\n",
       "      <td>chr2</td>\n",
       "      <td>20200</td>\n",
       "      <td>20700</td>\n",
       "    </tr>\n",
       "    <tr>\n",
       "      <th>181</th>\n",
       "      <td>0.967872</td>\n",
       "      <td>1</td>\n",
       "      <td>chr2</td>\n",
       "      <td>20250</td>\n",
       "      <td>20750</td>\n",
       "    </tr>\n",
       "    <tr>\n",
       "      <th>182</th>\n",
       "      <td>0.958939</td>\n",
       "      <td>1</td>\n",
       "      <td>chr2</td>\n",
       "      <td>20300</td>\n",
       "      <td>20800</td>\n",
       "    </tr>\n",
       "    <tr>\n",
       "      <th>...</th>\n",
       "      <td>...</td>\n",
       "      <td>...</td>\n",
       "      <td>...</td>\n",
       "      <td>...</td>\n",
       "      <td>...</td>\n",
       "    </tr>\n",
       "    <tr>\n",
       "      <th>4338852</th>\n",
       "      <td>0.975175</td>\n",
       "      <td>1</td>\n",
       "      <td>chr2</td>\n",
       "      <td>242080700</td>\n",
       "      <td>242081200</td>\n",
       "    </tr>\n",
       "    <tr>\n",
       "      <th>4338853</th>\n",
       "      <td>0.983281</td>\n",
       "      <td>1</td>\n",
       "      <td>chr2</td>\n",
       "      <td>242080750</td>\n",
       "      <td>242081250</td>\n",
       "    </tr>\n",
       "    <tr>\n",
       "      <th>4338854</th>\n",
       "      <td>0.972038</td>\n",
       "      <td>1</td>\n",
       "      <td>chr2</td>\n",
       "      <td>242080800</td>\n",
       "      <td>242081300</td>\n",
       "    </tr>\n",
       "    <tr>\n",
       "      <th>4338855</th>\n",
       "      <td>0.968932</td>\n",
       "      <td>1</td>\n",
       "      <td>chr2</td>\n",
       "      <td>242080850</td>\n",
       "      <td>242081350</td>\n",
       "    </tr>\n",
       "    <tr>\n",
       "      <th>4338856</th>\n",
       "      <td>0.963089</td>\n",
       "      <td>1</td>\n",
       "      <td>chr2</td>\n",
       "      <td>242080900</td>\n",
       "      <td>242081400</td>\n",
       "    </tr>\n",
       "  </tbody>\n",
       "</table>\n",
       "<p>20749 rows × 5 columns</p>\n",
       "</div>"
      ],
      "text/plain": [
       "                0  1     2          3          4\n",
       "178      0.896671  1  chr2      20100      20600\n",
       "179      0.969649  1  chr2      20150      20650\n",
       "180      0.981556  1  chr2      20200      20700\n",
       "181      0.967872  1  chr2      20250      20750\n",
       "182      0.958939  1  chr2      20300      20800\n",
       "...           ... ..   ...        ...        ...\n",
       "4338852  0.975175  1  chr2  242080700  242081200\n",
       "4338853  0.983281  1  chr2  242080750  242081250\n",
       "4338854  0.972038  1  chr2  242080800  242081300\n",
       "4338855  0.968932  1  chr2  242080850  242081350\n",
       "4338856  0.963089  1  chr2  242080900  242081400\n",
       "\n",
       "[20749 rows x 5 columns]"
      ]
     },
     "execution_count": 25,
     "metadata": {},
     "output_type": "execute_result"
    }
   ],
   "source": [
    "df.loc[(df[1]==1)&(df[0]>0.8)]"
   ]
  },
  {
   "cell_type": "code",
   "execution_count": 26,
   "id": "788ee34d",
   "metadata": {},
   "outputs": [
    {
     "data": {
      "text/plain": [
       "array(['chr2'], dtype=object)"
      ]
     },
     "execution_count": 26,
     "metadata": {},
     "output_type": "execute_result"
    }
   ],
   "source": [
    "df[2].unique()"
   ]
  },
  {
   "cell_type": "code",
   "execution_count": null,
   "id": "54f8b187",
   "metadata": {},
   "outputs": [],
   "source": []
  }
 ],
 "metadata": {
  "kernelspec": {
   "display_name": "Python 3",
   "language": "python",
   "name": "python3"
  },
  "language_info": {
   "codemirror_mode": {
    "name": "ipython",
    "version": 3
   },
   "file_extension": ".py",
   "mimetype": "text/x-python",
   "name": "python",
   "nbconvert_exporter": "python",
   "pygments_lexer": "ipython3",
   "version": "3.7.10"
  }
 },
 "nbformat": 4,
 "nbformat_minor": 5
}
