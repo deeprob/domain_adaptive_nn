{
 "cells": [
  {
   "cell_type": "code",
   "execution_count": 10,
   "id": "c89f5367",
   "metadata": {},
   "outputs": [],
   "source": [
    "from sklearn.metrics import precision_recall_curve, average_precision_score, auc\n",
    "import pandas as pd\n",
    "import matplotlib.pyplot as plt\n",
    "%matplotlib inline\n",
    "import numpy as np"
   ]
  },
  {
   "cell_type": "code",
   "execution_count": 11,
   "id": "f7e0bef7",
   "metadata": {},
   "outputs": [],
   "source": [
    "def get_pr_scores(results_file):\n",
    "    \n",
    "    results_df = pd.read_csv(results_file, header=None)\n",
    "    y_pred = results_df[0].values\n",
    "    y_true = results_df[1].values\n",
    "    \n",
    "    precision, recall, thresholds = precision_recall_curve(y_true, y_pred)\n",
    "    avg_score = average_precision_score(y_true, y_pred) \n",
    "    \n",
    "    return avg_score, precision, recall, thresholds\n",
    "\n",
    "\n",
    "def get_auprc(precision, recall):\n",
    "    # x must be monotonically increasing or decreasing\n",
    "    return auc(precision, recall)\n",
    "\n",
    "\n",
    "def get_classwise_accuracy(results_file, threshold=0.5):\n",
    "    df = pd.read_csv(results_file, header=None)\n",
    "    pos_df = df.loc[df[1]==1]\n",
    "    neg_df = df.loc[df[1]==0]\n",
    "    pos_acc = len(pos_df.loc[pos_df[0]>threshold])/len(pos_df)\n",
    "    neg_acc = len(neg_df.loc[neg_df[0]<=threshold])/len(neg_df)\n",
    "    return pos_acc, neg_acc"
   ]
  },
  {
   "cell_type": "code",
   "execution_count": 12,
   "id": "8b8278e1",
   "metadata": {},
   "outputs": [],
   "source": [
    "# GLOBALS\n",
    "PILOT=False\n",
    "MODEL_NAME=\"cogan\"\n",
    "\n",
    "if PILOT:\n",
    "    suffix = \"_pilot\"\n",
    "else:\n",
    "    suffix = \"\"\n",
    "\n",
    "TF=\"CEBPA\""
   ]
  },
  {
   "cell_type": "code",
   "execution_count": 13,
   "id": "4448e7be",
   "metadata": {},
   "outputs": [
    {
     "name": "stdout",
     "output_type": "stream",
     "text": [
      "The source filepath is ../../results/mm10/CEBPA/cogan_src.csv.gz\n",
      "The target filepath is ../../results/mm10/CEBPA/cogan_tgt.csv.gz\n"
     ]
    }
   ],
   "source": [
    "source_file = f\"../../results/mm10/{TF}/{MODEL_NAME}{suffix}_src.csv.gz\"\n",
    "target_file = f\"../../results/mm10/{TF}/{MODEL_NAME}{suffix}_tgt.csv.gz\"\n",
    "print(f\"The source filepath is {source_file}\\nThe target filepath is {target_file}\")"
   ]
  },
  {
   "cell_type": "code",
   "execution_count": 14,
   "id": "15f75a48",
   "metadata": {},
   "outputs": [],
   "source": [
    "source_metrics = get_pr_scores(source_file)"
   ]
  },
  {
   "cell_type": "code",
   "execution_count": 15,
   "id": "7a8685c2",
   "metadata": {},
   "outputs": [],
   "source": [
    "target_metrics = get_pr_scores(target_file)"
   ]
  },
  {
   "cell_type": "code",
   "execution_count": 16,
   "id": "baae265f",
   "metadata": {},
   "outputs": [
    {
     "name": "stdout",
     "output_type": "stream",
     "text": [
      "The average source precision score is 0.2727592222059033\n",
      "The average target precision score is 0.10960208401744437\n"
     ]
    }
   ],
   "source": [
    "# average precision\n",
    "print(f\"The average source precision score is {source_metrics[0]}\\nThe average target precision score is {target_metrics[0]}\")"
   ]
  },
  {
   "cell_type": "code",
   "execution_count": 17,
   "id": "80a91f52",
   "metadata": {},
   "outputs": [
    {
     "name": "stdout",
     "output_type": "stream",
     "text": [
      "The area under the PR curve for source is 0.27274757130567057\n",
      "The area under the PR curve for target is 0.10956901209277442\n"
     ]
    }
   ],
   "source": [
    "# AUPRC\n",
    "print(f\"The area under the PR curve for source is {get_auprc(source_metrics[2], source_metrics[1])}\\nThe area under the PR curve for target is {get_auprc(target_metrics[2], target_metrics[1])}\")"
   ]
  },
  {
   "cell_type": "code",
   "execution_count": null,
   "id": "2b4c11ad",
   "metadata": {},
   "outputs": [],
   "source": [
    "print(\"The source PR Curve\")\n",
    "plt.plot(source_metrics[2], source_metrics[1]); # xaxis recall, yaxis precision"
   ]
  },
  {
   "cell_type": "code",
   "execution_count": 10,
   "id": "401ae83e",
   "metadata": {
    "scrolled": true
   },
   "outputs": [
    {
     "name": "stdout",
     "output_type": "stream",
     "text": [
      "The target PR Curve\n"
     ]
    },
    {
     "data": {
      "image/png": "[encoded data removed]",
      "text/plain": [
       "<Figure size 432x288 with 1 Axes>"
      ]
     },
     "metadata": {
      "needs_background": "light"
     },
     "output_type": "display_data"
    }
   ],
   "source": [
    "print(\"The target PR Curve\")\n",
    "plt.plot(target_metrics[2], target_metrics[1]); # xaxis recall, yaxis precision"
   ]
  },
  {
   "cell_type": "code",
   "execution_count": 11,
   "id": "f05b0f4d",
   "metadata": {},
   "outputs": [],
   "source": [
    "df_src = pd.read_csv(source_file, header= None)"
   ]
  },
  {
   "cell_type": "code",
   "execution_count": 12,
   "id": "6257fa25",
   "metadata": {},
   "outputs": [
    {
     "data": {
      "text/html": [
       "<div>\n",
       "<style scoped>\n",
       "    .dataframe tbody tr th:only-of-type {\n",
       "        vertical-align: middle;\n",
       "    }\n",
       "\n",
       "    .dataframe tbody tr th {\n",
       "        vertical-align: top;\n",
       "    }\n",
       "\n",
       "    .dataframe thead th {\n",
       "        text-align: right;\n",
       "    }\n",
       "</style>\n",
       "<table border=\"1\" class=\"dataframe\">\n",
       "  <thead>\n",
       "    <tr style=\"text-align: right;\">\n",
       "      <th></th>\n",
       "      <th>0</th>\n",
       "      <th>1</th>\n",
       "      <th>2</th>\n",
       "      <th>3</th>\n",
       "      <th>4</th>\n",
       "    </tr>\n",
       "  </thead>\n",
       "  <tbody>\n",
       "    <tr>\n",
       "      <th>0</th>\n",
       "      <td>0.012529</td>\n",
       "      <td>0</td>\n",
       "      <td>chr2</td>\n",
       "      <td>3050950</td>\n",
       "      <td>3051450</td>\n",
       "    </tr>\n",
       "    <tr>\n",
       "      <th>1</th>\n",
       "      <td>0.010218</td>\n",
       "      <td>0</td>\n",
       "      <td>chr2</td>\n",
       "      <td>3051000</td>\n",
       "      <td>3051500</td>\n",
       "    </tr>\n",
       "    <tr>\n",
       "      <th>2</th>\n",
       "      <td>0.009686</td>\n",
       "      <td>0</td>\n",
       "      <td>chr2</td>\n",
       "      <td>3051050</td>\n",
       "      <td>3051550</td>\n",
       "    </tr>\n",
       "    <tr>\n",
       "      <th>3</th>\n",
       "      <td>0.053900</td>\n",
       "      <td>0</td>\n",
       "      <td>chr2</td>\n",
       "      <td>3051100</td>\n",
       "      <td>3051600</td>\n",
       "    </tr>\n",
       "    <tr>\n",
       "      <th>4</th>\n",
       "      <td>0.022576</td>\n",
       "      <td>0</td>\n",
       "      <td>chr2</td>\n",
       "      <td>3051150</td>\n",
       "      <td>3051650</td>\n",
       "    </tr>\n",
       "    <tr>\n",
       "      <th>...</th>\n",
       "      <td>...</td>\n",
       "      <td>...</td>\n",
       "      <td>...</td>\n",
       "      <td>...</td>\n",
       "      <td>...</td>\n",
       "    </tr>\n",
       "    <tr>\n",
       "      <th>3164246</th>\n",
       "      <td>0.158321</td>\n",
       "      <td>0</td>\n",
       "      <td>chr2</td>\n",
       "      <td>182012150</td>\n",
       "      <td>182012650</td>\n",
       "    </tr>\n",
       "    <tr>\n",
       "      <th>3164247</th>\n",
       "      <td>0.613164</td>\n",
       "      <td>0</td>\n",
       "      <td>chr2</td>\n",
       "      <td>182012200</td>\n",
       "      <td>182012700</td>\n",
       "    </tr>\n",
       "    <tr>\n",
       "      <th>3164248</th>\n",
       "      <td>0.525722</td>\n",
       "      <td>0</td>\n",
       "      <td>chr2</td>\n",
       "      <td>182012250</td>\n",
       "      <td>182012750</td>\n",
       "    </tr>\n",
       "    <tr>\n",
       "      <th>3164249</th>\n",
       "      <td>0.747708</td>\n",
       "      <td>0</td>\n",
       "      <td>chr2</td>\n",
       "      <td>182012300</td>\n",
       "      <td>182012800</td>\n",
       "    </tr>\n",
       "    <tr>\n",
       "      <th>3164250</th>\n",
       "      <td>0.760167</td>\n",
       "      <td>0</td>\n",
       "      <td>chr2</td>\n",
       "      <td>182012350</td>\n",
       "      <td>182012850</td>\n",
       "    </tr>\n",
       "  </tbody>\n",
       "</table>\n",
       "<p>3164251 rows × 5 columns</p>\n",
       "</div>"
      ],
      "text/plain": [
       "                0  1     2          3          4\n",
       "0        0.012529  0  chr2    3050950    3051450\n",
       "1        0.010218  0  chr2    3051000    3051500\n",
       "2        0.009686  0  chr2    3051050    3051550\n",
       "3        0.053900  0  chr2    3051100    3051600\n",
       "4        0.022576  0  chr2    3051150    3051650\n",
       "...           ... ..   ...        ...        ...\n",
       "3164246  0.158321  0  chr2  182012150  182012650\n",
       "3164247  0.613164  0  chr2  182012200  182012700\n",
       "3164248  0.525722  0  chr2  182012250  182012750\n",
       "3164249  0.747708  0  chr2  182012300  182012800\n",
       "3164250  0.760167  0  chr2  182012350  182012850\n",
       "\n",
       "[3164251 rows x 5 columns]"
      ]
     },
     "execution_count": 12,
     "metadata": {},
     "output_type": "execute_result"
    }
   ],
   "source": [
    "df_src"
   ]
  },
  {
   "cell_type": "code",
   "execution_count": 13,
   "id": "25fff1df",
   "metadata": {},
   "outputs": [],
   "source": [
    "adda_src_file = source_file.replace(\"cogan\", \"adda\")"
   ]
  },
  {
   "cell_type": "code",
   "execution_count": 14,
   "id": "70479009",
   "metadata": {},
   "outputs": [],
   "source": [
    "df_src_adda = pd.read_csv(adda_src_file, header=None)"
   ]
  },
  {
   "cell_type": "code",
   "execution_count": 15,
   "id": "30a40510",
   "metadata": {},
   "outputs": [
    {
     "data": {
      "text/html": [
       "<div>\n",
       "<style scoped>\n",
       "    .dataframe tbody tr th:only-of-type {\n",
       "        vertical-align: middle;\n",
       "    }\n",
       "\n",
       "    .dataframe tbody tr th {\n",
       "        vertical-align: top;\n",
       "    }\n",
       "\n",
       "    .dataframe thead th {\n",
       "        text-align: right;\n",
       "    }\n",
       "</style>\n",
       "<table border=\"1\" class=\"dataframe\">\n",
       "  <thead>\n",
       "    <tr style=\"text-align: right;\">\n",
       "      <th></th>\n",
       "      <th>0</th>\n",
       "      <th>1</th>\n",
       "      <th>2</th>\n",
       "      <th>3</th>\n",
       "      <th>4</th>\n",
       "    </tr>\n",
       "  </thead>\n",
       "  <tbody>\n",
       "    <tr>\n",
       "      <th>0</th>\n",
       "      <td>0.021470</td>\n",
       "      <td>0</td>\n",
       "      <td>chr2</td>\n",
       "      <td>3050950</td>\n",
       "      <td>3051450</td>\n",
       "    </tr>\n",
       "    <tr>\n",
       "      <th>1</th>\n",
       "      <td>0.023311</td>\n",
       "      <td>0</td>\n",
       "      <td>chr2</td>\n",
       "      <td>3051000</td>\n",
       "      <td>3051500</td>\n",
       "    </tr>\n",
       "    <tr>\n",
       "      <th>2</th>\n",
       "      <td>0.026924</td>\n",
       "      <td>0</td>\n",
       "      <td>chr2</td>\n",
       "      <td>3051050</td>\n",
       "      <td>3051550</td>\n",
       "    </tr>\n",
       "    <tr>\n",
       "      <th>3</th>\n",
       "      <td>0.041101</td>\n",
       "      <td>0</td>\n",
       "      <td>chr2</td>\n",
       "      <td>3051100</td>\n",
       "      <td>3051600</td>\n",
       "    </tr>\n",
       "    <tr>\n",
       "      <th>4</th>\n",
       "      <td>0.043633</td>\n",
       "      <td>0</td>\n",
       "      <td>chr2</td>\n",
       "      <td>3051150</td>\n",
       "      <td>3051650</td>\n",
       "    </tr>\n",
       "    <tr>\n",
       "      <th>...</th>\n",
       "      <td>...</td>\n",
       "      <td>...</td>\n",
       "      <td>...</td>\n",
       "      <td>...</td>\n",
       "      <td>...</td>\n",
       "    </tr>\n",
       "    <tr>\n",
       "      <th>3164246</th>\n",
       "      <td>0.284861</td>\n",
       "      <td>0</td>\n",
       "      <td>chr2</td>\n",
       "      <td>182012150</td>\n",
       "      <td>182012650</td>\n",
       "    </tr>\n",
       "    <tr>\n",
       "      <th>3164247</th>\n",
       "      <td>0.520810</td>\n",
       "      <td>0</td>\n",
       "      <td>chr2</td>\n",
       "      <td>182012200</td>\n",
       "      <td>182012700</td>\n",
       "    </tr>\n",
       "    <tr>\n",
       "      <th>3164248</th>\n",
       "      <td>0.812996</td>\n",
       "      <td>0</td>\n",
       "      <td>chr2</td>\n",
       "      <td>182012250</td>\n",
       "      <td>182012750</td>\n",
       "    </tr>\n",
       "    <tr>\n",
       "      <th>3164249</th>\n",
       "      <td>0.553657</td>\n",
       "      <td>0</td>\n",
       "      <td>chr2</td>\n",
       "      <td>182012300</td>\n",
       "      <td>182012800</td>\n",
       "    </tr>\n",
       "    <tr>\n",
       "      <th>3164250</th>\n",
       "      <td>0.655299</td>\n",
       "      <td>0</td>\n",
       "      <td>chr2</td>\n",
       "      <td>182012350</td>\n",
       "      <td>182012850</td>\n",
       "    </tr>\n",
       "  </tbody>\n",
       "</table>\n",
       "<p>3164251 rows × 5 columns</p>\n",
       "</div>"
      ],
      "text/plain": [
       "                0  1     2          3          4\n",
       "0        0.021470  0  chr2    3050950    3051450\n",
       "1        0.023311  0  chr2    3051000    3051500\n",
       "2        0.026924  0  chr2    3051050    3051550\n",
       "3        0.041101  0  chr2    3051100    3051600\n",
       "4        0.043633  0  chr2    3051150    3051650\n",
       "...           ... ..   ...        ...        ...\n",
       "3164246  0.284861  0  chr2  182012150  182012650\n",
       "3164247  0.520810  0  chr2  182012200  182012700\n",
       "3164248  0.812996  0  chr2  182012250  182012750\n",
       "3164249  0.553657  0  chr2  182012300  182012800\n",
       "3164250  0.655299  0  chr2  182012350  182012850\n",
       "\n",
       "[3164251 rows x 5 columns]"
      ]
     },
     "execution_count": 15,
     "metadata": {},
     "output_type": "execute_result"
    }
   ],
   "source": [
    "df_src_adda"
   ]
  },
  {
   "cell_type": "code",
   "execution_count": 17,
   "id": "f6a679c1",
   "metadata": {},
   "outputs": [
    {
     "data": {
      "text/html": [
       "<div>\n",
       "<style scoped>\n",
       "    .dataframe tbody tr th:only-of-type {\n",
       "        vertical-align: middle;\n",
       "    }\n",
       "\n",
       "    .dataframe tbody tr th {\n",
       "        vertical-align: top;\n",
       "    }\n",
       "\n",
       "    .dataframe thead th {\n",
       "        text-align: right;\n",
       "    }\n",
       "</style>\n",
       "<table border=\"1\" class=\"dataframe\">\n",
       "  <thead>\n",
       "    <tr style=\"text-align: right;\">\n",
       "      <th></th>\n",
       "      <th>0</th>\n",
       "      <th>1</th>\n",
       "      <th>2</th>\n",
       "      <th>3</th>\n",
       "      <th>4</th>\n",
       "    </tr>\n",
       "  </thead>\n",
       "  <tbody>\n",
       "  </tbody>\n",
       "</table>\n",
       "</div>"
      ],
      "text/plain": [
       "Empty DataFrame\n",
       "Columns: [0, 1, 2, 3, 4]\n",
       "Index: []"
      ]
     },
     "execution_count": 17,
     "metadata": {},
     "output_type": "execute_result"
    }
   ],
   "source": [
    "df_src.loc[~df_src[3].eq(df_src_adda[3])]"
   ]
  },
  {
   "cell_type": "code",
   "execution_count": 18,
   "id": "6f859a94",
   "metadata": {},
   "outputs": [
    {
     "data": {
      "text/html": [
       "<div>\n",
       "<style scoped>\n",
       "    .dataframe tbody tr th:only-of-type {\n",
       "        vertical-align: middle;\n",
       "    }\n",
       "\n",
       "    .dataframe tbody tr th {\n",
       "        vertical-align: top;\n",
       "    }\n",
       "\n",
       "    .dataframe thead th {\n",
       "        text-align: right;\n",
       "    }\n",
       "</style>\n",
       "<table border=\"1\" class=\"dataframe\">\n",
       "  <thead>\n",
       "    <tr style=\"text-align: right;\">\n",
       "      <th></th>\n",
       "      <th>0</th>\n",
       "      <th>1</th>\n",
       "      <th>2</th>\n",
       "      <th>3</th>\n",
       "      <th>4</th>\n",
       "    </tr>\n",
       "  </thead>\n",
       "  <tbody>\n",
       "  </tbody>\n",
       "</table>\n",
       "</div>"
      ],
      "text/plain": [
       "Empty DataFrame\n",
       "Columns: [0, 1, 2, 3, 4]\n",
       "Index: []"
      ]
     },
     "execution_count": 18,
     "metadata": {},
     "output_type": "execute_result"
    }
   ],
   "source": [
    "df_src_adda.loc[~df_src[1].eq(df_src_adda[1])]"
   ]
  },
  {
   "cell_type": "code",
   "execution_count": 18,
   "id": "daed286b",
   "metadata": {},
   "outputs": [
    {
     "data": {
      "text/plain": [
       "True"
      ]
     },
     "execution_count": 18,
     "metadata": {},
     "output_type": "execute_result"
    }
   ],
   "source": [
    "df_src_adda.equals(df_src)"
   ]
  },
  {
   "cell_type": "code",
   "execution_count": 19,
   "id": "9d935d47",
   "metadata": {},
   "outputs": [
    {
     "data": {
      "text/plain": [
       "array(['chr2'], dtype=object)"
      ]
     },
     "execution_count": 19,
     "metadata": {},
     "output_type": "execute_result"
    }
   ],
   "source": [
    "df_src[2].unique()"
   ]
  },
  {
   "cell_type": "code",
   "execution_count": 20,
   "id": "ec0a2184",
   "metadata": {},
   "outputs": [
    {
     "data": {
      "text/plain": [
       "3164251"
      ]
     },
     "execution_count": 20,
     "metadata": {},
     "output_type": "execute_result"
    }
   ],
   "source": [
    "len(df_src)"
   ]
  },
  {
   "cell_type": "code",
   "execution_count": 21,
   "id": "2f6499c7",
   "metadata": {},
   "outputs": [],
   "source": [
    "df = pd.read_csv(target_file, header=None)"
   ]
  },
  {
   "cell_type": "code",
   "execution_count": 22,
   "id": "90c58a32",
   "metadata": {},
   "outputs": [
    {
     "data": {
      "text/plain": [
       "2332000"
      ]
     },
     "execution_count": 22,
     "metadata": {},
     "output_type": "execute_result"
    }
   ],
   "source": [
    "len(df)"
   ]
  },
  {
   "cell_type": "code",
   "execution_count": 23,
   "id": "f9421c19",
   "metadata": {},
   "outputs": [
    {
     "data": {
      "text/html": [
       "<div>\n",
       "<style scoped>\n",
       "    .dataframe tbody tr th:only-of-type {\n",
       "        vertical-align: middle;\n",
       "    }\n",
       "\n",
       "    .dataframe tbody tr th {\n",
       "        vertical-align: top;\n",
       "    }\n",
       "\n",
       "    .dataframe thead th {\n",
       "        text-align: right;\n",
       "    }\n",
       "</style>\n",
       "<table border=\"1\" class=\"dataframe\">\n",
       "  <thead>\n",
       "    <tr style=\"text-align: right;\">\n",
       "      <th></th>\n",
       "      <th>0</th>\n",
       "      <th>1</th>\n",
       "      <th>2</th>\n",
       "      <th>3</th>\n",
       "      <th>4</th>\n",
       "    </tr>\n",
       "  </thead>\n",
       "  <tbody>\n",
       "    <tr>\n",
       "      <th>178</th>\n",
       "      <td>0.648712</td>\n",
       "      <td>1</td>\n",
       "      <td>chr2</td>\n",
       "      <td>20100</td>\n",
       "      <td>20600</td>\n",
       "    </tr>\n",
       "    <tr>\n",
       "      <th>179</th>\n",
       "      <td>0.947528</td>\n",
       "      <td>1</td>\n",
       "      <td>chr2</td>\n",
       "      <td>20150</td>\n",
       "      <td>20650</td>\n",
       "    </tr>\n",
       "    <tr>\n",
       "      <th>180</th>\n",
       "      <td>0.940436</td>\n",
       "      <td>1</td>\n",
       "      <td>chr2</td>\n",
       "      <td>20200</td>\n",
       "      <td>20700</td>\n",
       "    </tr>\n",
       "    <tr>\n",
       "      <th>181</th>\n",
       "      <td>0.931775</td>\n",
       "      <td>1</td>\n",
       "      <td>chr2</td>\n",
       "      <td>20250</td>\n",
       "      <td>20750</td>\n",
       "    </tr>\n",
       "    <tr>\n",
       "      <th>182</th>\n",
       "      <td>0.944629</td>\n",
       "      <td>1</td>\n",
       "      <td>chr2</td>\n",
       "      <td>20300</td>\n",
       "      <td>20800</td>\n",
       "    </tr>\n",
       "    <tr>\n",
       "      <th>...</th>\n",
       "      <td>...</td>\n",
       "      <td>...</td>\n",
       "      <td>...</td>\n",
       "      <td>...</td>\n",
       "      <td>...</td>\n",
       "    </tr>\n",
       "    <tr>\n",
       "      <th>2331900</th>\n",
       "      <td>0.983163</td>\n",
       "      <td>1</td>\n",
       "      <td>chr2</td>\n",
       "      <td>135063150</td>\n",
       "      <td>135063650</td>\n",
       "    </tr>\n",
       "    <tr>\n",
       "      <th>2331901</th>\n",
       "      <td>0.972674</td>\n",
       "      <td>1</td>\n",
       "      <td>chr2</td>\n",
       "      <td>135063200</td>\n",
       "      <td>135063700</td>\n",
       "    </tr>\n",
       "    <tr>\n",
       "      <th>2331902</th>\n",
       "      <td>0.984029</td>\n",
       "      <td>1</td>\n",
       "      <td>chr2</td>\n",
       "      <td>135063250</td>\n",
       "      <td>135063750</td>\n",
       "    </tr>\n",
       "    <tr>\n",
       "      <th>2331903</th>\n",
       "      <td>0.978020</td>\n",
       "      <td>1</td>\n",
       "      <td>chr2</td>\n",
       "      <td>135063300</td>\n",
       "      <td>135063800</td>\n",
       "    </tr>\n",
       "    <tr>\n",
       "      <th>2331904</th>\n",
       "      <td>0.983308</td>\n",
       "      <td>1</td>\n",
       "      <td>chr2</td>\n",
       "      <td>135063350</td>\n",
       "      <td>135063850</td>\n",
       "    </tr>\n",
       "  </tbody>\n",
       "</table>\n",
       "<p>14685 rows × 5 columns</p>\n",
       "</div>"
      ],
      "text/plain": [
       "                0  1     2          3          4\n",
       "178      0.648712  1  chr2      20100      20600\n",
       "179      0.947528  1  chr2      20150      20650\n",
       "180      0.940436  1  chr2      20200      20700\n",
       "181      0.931775  1  chr2      20250      20750\n",
       "182      0.944629  1  chr2      20300      20800\n",
       "...           ... ..   ...        ...        ...\n",
       "2331900  0.983163  1  chr2  135063150  135063650\n",
       "2331901  0.972674  1  chr2  135063200  135063700\n",
       "2331902  0.984029  1  chr2  135063250  135063750\n",
       "2331903  0.978020  1  chr2  135063300  135063800\n",
       "2331904  0.983308  1  chr2  135063350  135063850\n",
       "\n",
       "[14685 rows x 5 columns]"
      ]
     },
     "execution_count": 23,
     "metadata": {},
     "output_type": "execute_result"
    }
   ],
   "source": [
    "df.loc[df[1]==1]"
   ]
  },
  {
   "cell_type": "code",
   "execution_count": 25,
   "id": "fd969a5c",
   "metadata": {
    "scrolled": false
   },
   "outputs": [
    {
     "data": {
      "text/html": [
       "<div>\n",
       "<style scoped>\n",
       "    .dataframe tbody tr th:only-of-type {\n",
       "        vertical-align: middle;\n",
       "    }\n",
       "\n",
       "    .dataframe tbody tr th {\n",
       "        vertical-align: top;\n",
       "    }\n",
       "\n",
       "    .dataframe thead th {\n",
       "        text-align: right;\n",
       "    }\n",
       "</style>\n",
       "<table border=\"1\" class=\"dataframe\">\n",
       "  <thead>\n",
       "    <tr style=\"text-align: right;\">\n",
       "      <th></th>\n",
       "      <th>0</th>\n",
       "      <th>1</th>\n",
       "      <th>2</th>\n",
       "      <th>3</th>\n",
       "      <th>4</th>\n",
       "    </tr>\n",
       "  </thead>\n",
       "  <tbody>\n",
       "    <tr>\n",
       "      <th>179</th>\n",
       "      <td>0.947528</td>\n",
       "      <td>1</td>\n",
       "      <td>chr2</td>\n",
       "      <td>20150</td>\n",
       "      <td>20650</td>\n",
       "    </tr>\n",
       "    <tr>\n",
       "      <th>180</th>\n",
       "      <td>0.940436</td>\n",
       "      <td>1</td>\n",
       "      <td>chr2</td>\n",
       "      <td>20200</td>\n",
       "      <td>20700</td>\n",
       "    </tr>\n",
       "    <tr>\n",
       "      <th>181</th>\n",
       "      <td>0.931775</td>\n",
       "      <td>1</td>\n",
       "      <td>chr2</td>\n",
       "      <td>20250</td>\n",
       "      <td>20750</td>\n",
       "    </tr>\n",
       "    <tr>\n",
       "      <th>182</th>\n",
       "      <td>0.944629</td>\n",
       "      <td>1</td>\n",
       "      <td>chr2</td>\n",
       "      <td>20300</td>\n",
       "      <td>20800</td>\n",
       "    </tr>\n",
       "    <tr>\n",
       "      <th>183</th>\n",
       "      <td>0.916372</td>\n",
       "      <td>1</td>\n",
       "      <td>chr2</td>\n",
       "      <td>20350</td>\n",
       "      <td>20850</td>\n",
       "    </tr>\n",
       "    <tr>\n",
       "      <th>...</th>\n",
       "      <td>...</td>\n",
       "      <td>...</td>\n",
       "      <td>...</td>\n",
       "      <td>...</td>\n",
       "      <td>...</td>\n",
       "    </tr>\n",
       "    <tr>\n",
       "      <th>2331900</th>\n",
       "      <td>0.983163</td>\n",
       "      <td>1</td>\n",
       "      <td>chr2</td>\n",
       "      <td>135063150</td>\n",
       "      <td>135063650</td>\n",
       "    </tr>\n",
       "    <tr>\n",
       "      <th>2331901</th>\n",
       "      <td>0.972674</td>\n",
       "      <td>1</td>\n",
       "      <td>chr2</td>\n",
       "      <td>135063200</td>\n",
       "      <td>135063700</td>\n",
       "    </tr>\n",
       "    <tr>\n",
       "      <th>2331902</th>\n",
       "      <td>0.984029</td>\n",
       "      <td>1</td>\n",
       "      <td>chr2</td>\n",
       "      <td>135063250</td>\n",
       "      <td>135063750</td>\n",
       "    </tr>\n",
       "    <tr>\n",
       "      <th>2331903</th>\n",
       "      <td>0.978020</td>\n",
       "      <td>1</td>\n",
       "      <td>chr2</td>\n",
       "      <td>135063300</td>\n",
       "      <td>135063800</td>\n",
       "    </tr>\n",
       "    <tr>\n",
       "      <th>2331904</th>\n",
       "      <td>0.983308</td>\n",
       "      <td>1</td>\n",
       "      <td>chr2</td>\n",
       "      <td>135063350</td>\n",
       "      <td>135063850</td>\n",
       "    </tr>\n",
       "  </tbody>\n",
       "</table>\n",
       "<p>10263 rows × 5 columns</p>\n",
       "</div>"
      ],
      "text/plain": [
       "                0  1     2          3          4\n",
       "179      0.947528  1  chr2      20150      20650\n",
       "180      0.940436  1  chr2      20200      20700\n",
       "181      0.931775  1  chr2      20250      20750\n",
       "182      0.944629  1  chr2      20300      20800\n",
       "183      0.916372  1  chr2      20350      20850\n",
       "...           ... ..   ...        ...        ...\n",
       "2331900  0.983163  1  chr2  135063150  135063650\n",
       "2331901  0.972674  1  chr2  135063200  135063700\n",
       "2331902  0.984029  1  chr2  135063250  135063750\n",
       "2331903  0.978020  1  chr2  135063300  135063800\n",
       "2331904  0.983308  1  chr2  135063350  135063850\n",
       "\n",
       "[10263 rows x 5 columns]"
      ]
     },
     "execution_count": 25,
     "metadata": {},
     "output_type": "execute_result"
    }
   ],
   "source": [
    "df.loc[(df[1]==1)&(df[0]>0.9)]"
   ]
  },
  {
   "cell_type": "code",
   "execution_count": 26,
   "id": "788ee34d",
   "metadata": {},
   "outputs": [
    {
     "data": {
      "text/plain": [
       "array(['chr2'], dtype=object)"
      ]
     },
     "execution_count": 26,
     "metadata": {},
     "output_type": "execute_result"
    }
   ],
   "source": [
    "df[2].unique()"
   ]
  },
  {
   "cell_type": "code",
   "execution_count": null,
   "id": "54f8b187",
   "metadata": {},
   "outputs": [],
   "source": []
  }
 ],
 "metadata": {
  "kernelspec": {
   "display_name": "Python 3",
   "language": "python",
   "name": "python3"
  },
  "language_info": {
   "codemirror_mode": {
    "name": "ipython",
    "version": 3
   },
   "file_extension": ".py",
   "mimetype": "text/x-python",
   "name": "python",
   "nbconvert_exporter": "python",
   "pygments_lexer": "ipython3",
   "version": "3.7.10"
  }
 },
 "nbformat": 4,
 "nbformat_minor": 5
}
