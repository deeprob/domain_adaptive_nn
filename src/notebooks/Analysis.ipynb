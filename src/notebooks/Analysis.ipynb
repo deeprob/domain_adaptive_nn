{
 "cells": [
  {
   "cell_type": "code",
   "execution_count": 1,
   "id": "c89f5367",
   "metadata": {},
   "outputs": [],
   "source": [
    "from sklearn.metrics import precision_recall_curve, average_precision_score, auc\n",
    "import pandas as pd\n",
    "import matplotlib.pyplot as plt\n",
    "%matplotlib inline\n",
    "import numpy as np"
   ]
  },
  {
   "cell_type": "code",
   "execution_count": 2,
   "id": "f7e0bef7",
   "metadata": {},
   "outputs": [],
   "source": [
    "def get_pr_scores(results_file):\n",
    "    \n",
    "    results_df = pd.read_csv(results_file, header=None)\n",
    "    y_pred = results_df[0].values\n",
    "    y_true = results_df[1].values\n",
    "    \n",
    "    precision, recall, thresholds = precision_recall_curve(y_true, y_pred)\n",
    "    avg_score = average_precision_score(y_true, y_pred) \n",
    "    \n",
    "    return avg_score, precision, recall, thresholds\n",
    "\n",
    "\n",
    "def get_auprc(precision, recall):\n",
    "    # x must be monotonically increasing or decreasing\n",
    "    return auc(precision, recall)\n",
    "\n",
    "\n",
    "def get_classwise_accuracy(results_file, threshold=0.5):\n",
    "    df = pd.read_csv(results_file, header=None)\n",
    "    pos_df = df.loc[df[1]==1]\n",
    "    neg_df = df.loc[df[1]==0]\n",
    "    pos_acc = len(pos_df.loc[pos_df[0]>threshold])/len(pos_df)\n",
    "    neg_acc = len(neg_df.loc[neg_df[0]<=threshold])/len(neg_df)\n",
    "    return pos_acc, neg_acc"
   ]
  },
  {
   "cell_type": "code",
   "execution_count": 28,
   "id": "8b8278e1",
   "metadata": {},
   "outputs": [],
   "source": [
    "# GLOBALS\n",
    "PILOT=False\n",
    "MODEL_NAME=\"adda\"\n",
    "\n",
    "if PILOT:\n",
    "    suffix = \"_pilot\"\n",
    "else:\n",
    "    suffix = \"\"\n",
    "\n",
    "TF=\"Hnf4a\""
   ]
  },
  {
   "cell_type": "code",
   "execution_count": 29,
   "id": "4448e7be",
   "metadata": {},
   "outputs": [
    {
     "name": "stdout",
     "output_type": "stream",
     "text": [
      "The source filepath is ../../results/mm10/Hnf4a/adda_src.csv.gz\n",
      "The target filepath is ../../results/mm10/Hnf4a/adda_tgt.csv.gz\n"
     ]
    }
   ],
   "source": [
    "source_file = f\"../../results/mm10/{TF}/{MODEL_NAME}{suffix}_src.csv.gz\"\n",
    "target_file = f\"../../results/mm10/{TF}/{MODEL_NAME}{suffix}_tgt.csv.gz\"\n",
    "print(f\"The source filepath is {source_file}\\nThe target filepath is {target_file}\")"
   ]
  },
  {
   "cell_type": "code",
   "execution_count": 30,
   "id": "15f75a48",
   "metadata": {},
   "outputs": [],
   "source": [
    "source_metrics = get_pr_scores(source_file)"
   ]
  },
  {
   "cell_type": "code",
   "execution_count": 31,
   "id": "7a8685c2",
   "metadata": {},
   "outputs": [],
   "source": [
    "target_metrics = get_pr_scores(target_file)"
   ]
  },
  {
   "cell_type": "code",
   "execution_count": 32,
   "id": "baae265f",
   "metadata": {},
   "outputs": [
    {
     "name": "stdout",
     "output_type": "stream",
     "text": [
      "The average source precision score is 0.24869157517248655\n",
      "The average target precision score is 0.18025317882164935\n"
     ]
    }
   ],
   "source": [
    "# average precision\n",
    "print(f\"The average source precision score is {source_metrics[0]}\\nThe average target precision score is {target_metrics[0]}\")"
   ]
  },
  {
   "cell_type": "code",
   "execution_count": 33,
   "id": "80a91f52",
   "metadata": {},
   "outputs": [
    {
     "name": "stdout",
     "output_type": "stream",
     "text": [
      "The area under the PR curve for source is 0.24865050294552943\n",
      "The area under the PR curve for target is 0.1802134058025764\n"
     ]
    }
   ],
   "source": [
    "# AUPRC\n",
    "print(f\"The area under the PR curve for source is {get_auprc(source_metrics[2], source_metrics[1])}\\nThe area under the PR curve for target is {get_auprc(target_metrics[2], target_metrics[1])}\")"
   ]
  },
  {
   "cell_type": "code",
   "execution_count": 35,
   "id": "2b4c11ad",
   "metadata": {},
   "outputs": [
    {
     "name": "stdout",
     "output_type": "stream",
     "text": [
      "The source PR Curve\n"
     ]
    },
    {
     "data": {
      "image/png": "[encoded data removed]",
      "text/plain": [
       "<Figure size 432x288 with 1 Axes>"
      ]
     },
     "metadata": {
      "needs_background": "light"
     },
     "output_type": "display_data"
    }
   ],
   "source": [
    "print(\"The source PR Curve\")\n",
    "plt.plot(source_metrics[2], source_metrics[1]); # xaxis recall, yaxis precision"
   ]
  },
  {
   "cell_type": "code",
   "execution_count": 34,
   "id": "401ae83e",
   "metadata": {
    "scrolled": true
   },
   "outputs": [
    {
     "name": "stdout",
     "output_type": "stream",
     "text": [
      "The target PR Curve\n"
     ]
    },
    {
     "data": {
      "image/png": "[encoded data removed]",
      "text/plain": [
       "<Figure size 432x288 with 1 Axes>"
      ]
     },
     "metadata": {
      "needs_background": "light"
     },
     "output_type": "display_data"
    }
   ],
   "source": [
    "print(\"The target PR Curve\")\n",
    "plt.plot(target_metrics[2], target_metrics[1]); # xaxis recall, yaxis precision"
   ]
  },
  {
   "cell_type": "code",
   "execution_count": 11,
   "id": "f05b0f4d",
   "metadata": {},
   "outputs": [],
   "source": [
    "df_src = pd.read_csv(source_file, header= None)"
   ]
  },
  {
   "cell_type": "code",
   "execution_count": 12,
   "id": "6257fa25",
   "metadata": {},
   "outputs": [
    {
     "data": {
      "text/html": [
       "<div>\n",
       "<style scoped>\n",
       "    .dataframe tbody tr th:only-of-type {\n",
       "        vertical-align: middle;\n",
       "    }\n",
       "\n",
       "    .dataframe tbody tr th {\n",
       "        vertical-align: top;\n",
       "    }\n",
       "\n",
       "    .dataframe thead th {\n",
       "        text-align: right;\n",
       "    }\n",
       "</style>\n",
       "<table border=\"1\" class=\"dataframe\">\n",
       "  <thead>\n",
       "    <tr style=\"text-align: right;\">\n",
       "      <th></th>\n",
       "      <th>0</th>\n",
       "      <th>1</th>\n",
       "      <th>2</th>\n",
       "      <th>3</th>\n",
       "      <th>4</th>\n",
       "    </tr>\n",
       "  </thead>\n",
       "  <tbody>\n",
       "    <tr>\n",
       "      <th>0</th>\n",
       "      <td>0.021470</td>\n",
       "      <td>0</td>\n",
       "      <td>chr2</td>\n",
       "      <td>3050950</td>\n",
       "      <td>3051450</td>\n",
       "    </tr>\n",
       "    <tr>\n",
       "      <th>1</th>\n",
       "      <td>0.023311</td>\n",
       "      <td>0</td>\n",
       "      <td>chr2</td>\n",
       "      <td>3051000</td>\n",
       "      <td>3051500</td>\n",
       "    </tr>\n",
       "    <tr>\n",
       "      <th>2</th>\n",
       "      <td>0.026924</td>\n",
       "      <td>0</td>\n",
       "      <td>chr2</td>\n",
       "      <td>3051050</td>\n",
       "      <td>3051550</td>\n",
       "    </tr>\n",
       "    <tr>\n",
       "      <th>3</th>\n",
       "      <td>0.041101</td>\n",
       "      <td>0</td>\n",
       "      <td>chr2</td>\n",
       "      <td>3051100</td>\n",
       "      <td>3051600</td>\n",
       "    </tr>\n",
       "    <tr>\n",
       "      <th>4</th>\n",
       "      <td>0.043633</td>\n",
       "      <td>0</td>\n",
       "      <td>chr2</td>\n",
       "      <td>3051150</td>\n",
       "      <td>3051650</td>\n",
       "    </tr>\n",
       "    <tr>\n",
       "      <th>...</th>\n",
       "      <td>...</td>\n",
       "      <td>...</td>\n",
       "      <td>...</td>\n",
       "      <td>...</td>\n",
       "      <td>...</td>\n",
       "    </tr>\n",
       "    <tr>\n",
       "      <th>3164246</th>\n",
       "      <td>0.284861</td>\n",
       "      <td>0</td>\n",
       "      <td>chr2</td>\n",
       "      <td>182012150</td>\n",
       "      <td>182012650</td>\n",
       "    </tr>\n",
       "    <tr>\n",
       "      <th>3164247</th>\n",
       "      <td>0.520810</td>\n",
       "      <td>0</td>\n",
       "      <td>chr2</td>\n",
       "      <td>182012200</td>\n",
       "      <td>182012700</td>\n",
       "    </tr>\n",
       "    <tr>\n",
       "      <th>3164248</th>\n",
       "      <td>0.812996</td>\n",
       "      <td>0</td>\n",
       "      <td>chr2</td>\n",
       "      <td>182012250</td>\n",
       "      <td>182012750</td>\n",
       "    </tr>\n",
       "    <tr>\n",
       "      <th>3164249</th>\n",
       "      <td>0.553657</td>\n",
       "      <td>0</td>\n",
       "      <td>chr2</td>\n",
       "      <td>182012300</td>\n",
       "      <td>182012800</td>\n",
       "    </tr>\n",
       "    <tr>\n",
       "      <th>3164250</th>\n",
       "      <td>0.655299</td>\n",
       "      <td>0</td>\n",
       "      <td>chr2</td>\n",
       "      <td>182012350</td>\n",
       "      <td>182012850</td>\n",
       "    </tr>\n",
       "  </tbody>\n",
       "</table>\n",
       "<p>3164251 rows × 5 columns</p>\n",
       "</div>"
      ],
      "text/plain": [
       "                0  1     2          3          4\n",
       "0        0.021470  0  chr2    3050950    3051450\n",
       "1        0.023311  0  chr2    3051000    3051500\n",
       "2        0.026924  0  chr2    3051050    3051550\n",
       "3        0.041101  0  chr2    3051100    3051600\n",
       "4        0.043633  0  chr2    3051150    3051650\n",
       "...           ... ..   ...        ...        ...\n",
       "3164246  0.284861  0  chr2  182012150  182012650\n",
       "3164247  0.520810  0  chr2  182012200  182012700\n",
       "3164248  0.812996  0  chr2  182012250  182012750\n",
       "3164249  0.553657  0  chr2  182012300  182012800\n",
       "3164250  0.655299  0  chr2  182012350  182012850\n",
       "\n",
       "[3164251 rows x 5 columns]"
      ]
     },
     "execution_count": 12,
     "metadata": {},
     "output_type": "execute_result"
    }
   ],
   "source": [
    "df_src"
   ]
  },
  {
   "cell_type": "code",
   "execution_count": 13,
   "id": "25fff1df",
   "metadata": {},
   "outputs": [],
   "source": [
    "adda_src_file = source_file.replace(\"hybrid\", \"adda\")"
   ]
  },
  {
   "cell_type": "code",
   "execution_count": 14,
   "id": "70479009",
   "metadata": {},
   "outputs": [],
   "source": [
    "df_src_adda = pd.read_csv(adda_src_file, header=None)"
   ]
  },
  {
   "cell_type": "code",
   "execution_count": 15,
   "id": "30a40510",
   "metadata": {},
   "outputs": [
    {
     "data": {
      "text/html": [
       "<div>\n",
       "<style scoped>\n",
       "    .dataframe tbody tr th:only-of-type {\n",
       "        vertical-align: middle;\n",
       "    }\n",
       "\n",
       "    .dataframe tbody tr th {\n",
       "        vertical-align: top;\n",
       "    }\n",
       "\n",
       "    .dataframe thead th {\n",
       "        text-align: right;\n",
       "    }\n",
       "</style>\n",
       "<table border=\"1\" class=\"dataframe\">\n",
       "  <thead>\n",
       "    <tr style=\"text-align: right;\">\n",
       "      <th></th>\n",
       "      <th>0</th>\n",
       "      <th>1</th>\n",
       "      <th>2</th>\n",
       "      <th>3</th>\n",
       "      <th>4</th>\n",
       "    </tr>\n",
       "  </thead>\n",
       "  <tbody>\n",
       "    <tr>\n",
       "      <th>0</th>\n",
       "      <td>0.011856</td>\n",
       "      <td>0</td>\n",
       "      <td>chr2</td>\n",
       "      <td>3050950</td>\n",
       "      <td>3051450</td>\n",
       "    </tr>\n",
       "    <tr>\n",
       "      <th>1</th>\n",
       "      <td>0.017189</td>\n",
       "      <td>0</td>\n",
       "      <td>chr2</td>\n",
       "      <td>3051000</td>\n",
       "      <td>3051500</td>\n",
       "    </tr>\n",
       "    <tr>\n",
       "      <th>2</th>\n",
       "      <td>0.017141</td>\n",
       "      <td>0</td>\n",
       "      <td>chr2</td>\n",
       "      <td>3051050</td>\n",
       "      <td>3051550</td>\n",
       "    </tr>\n",
       "    <tr>\n",
       "      <th>3</th>\n",
       "      <td>0.013075</td>\n",
       "      <td>0</td>\n",
       "      <td>chr2</td>\n",
       "      <td>3051100</td>\n",
       "      <td>3051600</td>\n",
       "    </tr>\n",
       "    <tr>\n",
       "      <th>4</th>\n",
       "      <td>0.015706</td>\n",
       "      <td>0</td>\n",
       "      <td>chr2</td>\n",
       "      <td>3051150</td>\n",
       "      <td>3051650</td>\n",
       "    </tr>\n",
       "    <tr>\n",
       "      <th>...</th>\n",
       "      <td>...</td>\n",
       "      <td>...</td>\n",
       "      <td>...</td>\n",
       "      <td>...</td>\n",
       "      <td>...</td>\n",
       "    </tr>\n",
       "    <tr>\n",
       "      <th>1353995</th>\n",
       "      <td>0.088723</td>\n",
       "      <td>0</td>\n",
       "      <td>chr2</td>\n",
       "      <td>78243350</td>\n",
       "      <td>78243850</td>\n",
       "    </tr>\n",
       "    <tr>\n",
       "      <th>1353996</th>\n",
       "      <td>0.007220</td>\n",
       "      <td>0</td>\n",
       "      <td>chr2</td>\n",
       "      <td>78243400</td>\n",
       "      <td>78243900</td>\n",
       "    </tr>\n",
       "    <tr>\n",
       "      <th>1353997</th>\n",
       "      <td>0.016033</td>\n",
       "      <td>0</td>\n",
       "      <td>chr2</td>\n",
       "      <td>78243450</td>\n",
       "      <td>78243950</td>\n",
       "    </tr>\n",
       "    <tr>\n",
       "      <th>1353998</th>\n",
       "      <td>0.103188</td>\n",
       "      <td>0</td>\n",
       "      <td>chr2</td>\n",
       "      <td>78243500</td>\n",
       "      <td>78244000</td>\n",
       "    </tr>\n",
       "    <tr>\n",
       "      <th>1353999</th>\n",
       "      <td>0.016490</td>\n",
       "      <td>0</td>\n",
       "      <td>chr2</td>\n",
       "      <td>78244500</td>\n",
       "      <td>78245000</td>\n",
       "    </tr>\n",
       "  </tbody>\n",
       "</table>\n",
       "<p>1354000 rows × 5 columns</p>\n",
       "</div>"
      ],
      "text/plain": [
       "                0  1     2         3         4\n",
       "0        0.011856  0  chr2   3050950   3051450\n",
       "1        0.017189  0  chr2   3051000   3051500\n",
       "2        0.017141  0  chr2   3051050   3051550\n",
       "3        0.013075  0  chr2   3051100   3051600\n",
       "4        0.015706  0  chr2   3051150   3051650\n",
       "...           ... ..   ...       ...       ...\n",
       "1353995  0.088723  0  chr2  78243350  78243850\n",
       "1353996  0.007220  0  chr2  78243400  78243900\n",
       "1353997  0.016033  0  chr2  78243450  78243950\n",
       "1353998  0.103188  0  chr2  78243500  78244000\n",
       "1353999  0.016490  0  chr2  78244500  78245000\n",
       "\n",
       "[1354000 rows x 5 columns]"
      ]
     },
     "execution_count": 15,
     "metadata": {},
     "output_type": "execute_result"
    }
   ],
   "source": [
    "df_src_adda"
   ]
  },
  {
   "cell_type": "code",
   "execution_count": 16,
   "id": "f6a679c1",
   "metadata": {},
   "outputs": [
    {
     "data": {
      "text/html": [
       "<div>\n",
       "<style scoped>\n",
       "    .dataframe tbody tr th:only-of-type {\n",
       "        vertical-align: middle;\n",
       "    }\n",
       "\n",
       "    .dataframe tbody tr th {\n",
       "        vertical-align: top;\n",
       "    }\n",
       "\n",
       "    .dataframe thead th {\n",
       "        text-align: right;\n",
       "    }\n",
       "</style>\n",
       "<table border=\"1\" class=\"dataframe\">\n",
       "  <thead>\n",
       "    <tr style=\"text-align: right;\">\n",
       "      <th></th>\n",
       "      <th>0</th>\n",
       "      <th>1</th>\n",
       "      <th>2</th>\n",
       "      <th>3</th>\n",
       "      <th>4</th>\n",
       "    </tr>\n",
       "  </thead>\n",
       "  <tbody>\n",
       "  </tbody>\n",
       "</table>\n",
       "</div>"
      ],
      "text/plain": [
       "Empty DataFrame\n",
       "Columns: [0, 1, 2, 3, 4]\n",
       "Index: []"
      ]
     },
     "execution_count": 16,
     "metadata": {},
     "output_type": "execute_result"
    }
   ],
   "source": [
    "df_src.loc[~df_src[0].eq(df_src_adda[0])]"
   ]
  },
  {
   "cell_type": "code",
   "execution_count": 17,
   "id": "6f859a94",
   "metadata": {},
   "outputs": [
    {
     "data": {
      "text/html": [
       "<div>\n",
       "<style scoped>\n",
       "    .dataframe tbody tr th:only-of-type {\n",
       "        vertical-align: middle;\n",
       "    }\n",
       "\n",
       "    .dataframe tbody tr th {\n",
       "        vertical-align: top;\n",
       "    }\n",
       "\n",
       "    .dataframe thead th {\n",
       "        text-align: right;\n",
       "    }\n",
       "</style>\n",
       "<table border=\"1\" class=\"dataframe\">\n",
       "  <thead>\n",
       "    <tr style=\"text-align: right;\">\n",
       "      <th></th>\n",
       "      <th>0</th>\n",
       "      <th>1</th>\n",
       "      <th>2</th>\n",
       "      <th>3</th>\n",
       "      <th>4</th>\n",
       "    </tr>\n",
       "  </thead>\n",
       "  <tbody>\n",
       "  </tbody>\n",
       "</table>\n",
       "</div>"
      ],
      "text/plain": [
       "Empty DataFrame\n",
       "Columns: [0, 1, 2, 3, 4]\n",
       "Index: []"
      ]
     },
     "execution_count": 17,
     "metadata": {},
     "output_type": "execute_result"
    }
   ],
   "source": [
    "df_src_adda.loc[~df_src[0].eq(df_src_adda[0])]"
   ]
  },
  {
   "cell_type": "code",
   "execution_count": 18,
   "id": "daed286b",
   "metadata": {},
   "outputs": [
    {
     "data": {
      "text/plain": [
       "True"
      ]
     },
     "execution_count": 18,
     "metadata": {},
     "output_type": "execute_result"
    }
   ],
   "source": [
    "df_src_adda.equals(df_src)"
   ]
  },
  {
   "cell_type": "code",
   "execution_count": 19,
   "id": "9d935d47",
   "metadata": {},
   "outputs": [
    {
     "data": {
      "text/plain": [
       "array(['chr2'], dtype=object)"
      ]
     },
     "execution_count": 19,
     "metadata": {},
     "output_type": "execute_result"
    }
   ],
   "source": [
    "df_src[2].unique()"
   ]
  },
  {
   "cell_type": "code",
   "execution_count": 20,
   "id": "ec0a2184",
   "metadata": {},
   "outputs": [
    {
     "data": {
      "text/plain": [
       "1354000"
      ]
     },
     "execution_count": 20,
     "metadata": {},
     "output_type": "execute_result"
    }
   ],
   "source": [
    "len(df_src)"
   ]
  },
  {
   "cell_type": "code",
   "execution_count": 21,
   "id": "2f6499c7",
   "metadata": {},
   "outputs": [],
   "source": [
    "df = pd.read_csv(target_file, header=None)"
   ]
  },
  {
   "cell_type": "code",
   "execution_count": 22,
   "id": "90c58a32",
   "metadata": {},
   "outputs": [
    {
     "data": {
      "text/plain": [
       "4339180"
      ]
     },
     "execution_count": 22,
     "metadata": {},
     "output_type": "execute_result"
    }
   ],
   "source": [
    "len(df)"
   ]
  },
  {
   "cell_type": "code",
   "execution_count": 23,
   "id": "f9421c19",
   "metadata": {},
   "outputs": [
    {
     "data": {
      "text/html": [
       "<div>\n",
       "<style scoped>\n",
       "    .dataframe tbody tr th:only-of-type {\n",
       "        vertical-align: middle;\n",
       "    }\n",
       "\n",
       "    .dataframe tbody tr th {\n",
       "        vertical-align: top;\n",
       "    }\n",
       "\n",
       "    .dataframe thead th {\n",
       "        text-align: right;\n",
       "    }\n",
       "</style>\n",
       "<table border=\"1\" class=\"dataframe\">\n",
       "  <thead>\n",
       "    <tr style=\"text-align: right;\">\n",
       "      <th></th>\n",
       "      <th>0</th>\n",
       "      <th>1</th>\n",
       "      <th>2</th>\n",
       "      <th>3</th>\n",
       "      <th>4</th>\n",
       "    </tr>\n",
       "  </thead>\n",
       "  <tbody>\n",
       "    <tr>\n",
       "      <th>178</th>\n",
       "      <td>0.566600</td>\n",
       "      <td>1</td>\n",
       "      <td>chr2</td>\n",
       "      <td>20100</td>\n",
       "      <td>20600</td>\n",
       "    </tr>\n",
       "    <tr>\n",
       "      <th>179</th>\n",
       "      <td>0.848110</td>\n",
       "      <td>1</td>\n",
       "      <td>chr2</td>\n",
       "      <td>20150</td>\n",
       "      <td>20650</td>\n",
       "    </tr>\n",
       "    <tr>\n",
       "      <th>180</th>\n",
       "      <td>0.827761</td>\n",
       "      <td>1</td>\n",
       "      <td>chr2</td>\n",
       "      <td>20200</td>\n",
       "      <td>20700</td>\n",
       "    </tr>\n",
       "    <tr>\n",
       "      <th>181</th>\n",
       "      <td>0.928233</td>\n",
       "      <td>1</td>\n",
       "      <td>chr2</td>\n",
       "      <td>20250</td>\n",
       "      <td>20750</td>\n",
       "    </tr>\n",
       "    <tr>\n",
       "      <th>182</th>\n",
       "      <td>0.827783</td>\n",
       "      <td>1</td>\n",
       "      <td>chr2</td>\n",
       "      <td>20300</td>\n",
       "      <td>20800</td>\n",
       "    </tr>\n",
       "    <tr>\n",
       "      <th>...</th>\n",
       "      <td>...</td>\n",
       "      <td>...</td>\n",
       "      <td>...</td>\n",
       "      <td>...</td>\n",
       "      <td>...</td>\n",
       "    </tr>\n",
       "    <tr>\n",
       "      <th>4338853</th>\n",
       "      <td>0.969007</td>\n",
       "      <td>1</td>\n",
       "      <td>chr2</td>\n",
       "      <td>242080750</td>\n",
       "      <td>242081250</td>\n",
       "    </tr>\n",
       "    <tr>\n",
       "      <th>4338854</th>\n",
       "      <td>0.961633</td>\n",
       "      <td>1</td>\n",
       "      <td>chr2</td>\n",
       "      <td>242080800</td>\n",
       "      <td>242081300</td>\n",
       "    </tr>\n",
       "    <tr>\n",
       "      <th>4338855</th>\n",
       "      <td>0.952246</td>\n",
       "      <td>1</td>\n",
       "      <td>chr2</td>\n",
       "      <td>242080850</td>\n",
       "      <td>242081350</td>\n",
       "    </tr>\n",
       "    <tr>\n",
       "      <th>4338856</th>\n",
       "      <td>0.734283</td>\n",
       "      <td>1</td>\n",
       "      <td>chr2</td>\n",
       "      <td>242080900</td>\n",
       "      <td>242081400</td>\n",
       "    </tr>\n",
       "    <tr>\n",
       "      <th>4338857</th>\n",
       "      <td>0.466313</td>\n",
       "      <td>1</td>\n",
       "      <td>chr2</td>\n",
       "      <td>242080950</td>\n",
       "      <td>242081450</td>\n",
       "    </tr>\n",
       "  </tbody>\n",
       "</table>\n",
       "<p>25616 rows × 5 columns</p>\n",
       "</div>"
      ],
      "text/plain": [
       "                0  1     2          3          4\n",
       "178      0.566600  1  chr2      20100      20600\n",
       "179      0.848110  1  chr2      20150      20650\n",
       "180      0.827761  1  chr2      20200      20700\n",
       "181      0.928233  1  chr2      20250      20750\n",
       "182      0.827783  1  chr2      20300      20800\n",
       "...           ... ..   ...        ...        ...\n",
       "4338853  0.969007  1  chr2  242080750  242081250\n",
       "4338854  0.961633  1  chr2  242080800  242081300\n",
       "4338855  0.952246  1  chr2  242080850  242081350\n",
       "4338856  0.734283  1  chr2  242080900  242081400\n",
       "4338857  0.466313  1  chr2  242080950  242081450\n",
       "\n",
       "[25616 rows x 5 columns]"
      ]
     },
     "execution_count": 23,
     "metadata": {},
     "output_type": "execute_result"
    }
   ],
   "source": [
    "df.loc[df[1]==1]"
   ]
  },
  {
   "cell_type": "code",
   "execution_count": 24,
   "id": "fd969a5c",
   "metadata": {},
   "outputs": [
    {
     "data": {
      "text/html": [
       "<div>\n",
       "<style scoped>\n",
       "    .dataframe tbody tr th:only-of-type {\n",
       "        vertical-align: middle;\n",
       "    }\n",
       "\n",
       "    .dataframe tbody tr th {\n",
       "        vertical-align: top;\n",
       "    }\n",
       "\n",
       "    .dataframe thead th {\n",
       "        text-align: right;\n",
       "    }\n",
       "</style>\n",
       "<table border=\"1\" class=\"dataframe\">\n",
       "  <thead>\n",
       "    <tr style=\"text-align: right;\">\n",
       "      <th></th>\n",
       "      <th>0</th>\n",
       "      <th>1</th>\n",
       "      <th>2</th>\n",
       "      <th>3</th>\n",
       "      <th>4</th>\n",
       "    </tr>\n",
       "  </thead>\n",
       "  <tbody>\n",
       "    <tr>\n",
       "      <th>178</th>\n",
       "      <td>0.566600</td>\n",
       "      <td>1</td>\n",
       "      <td>chr2</td>\n",
       "      <td>20100</td>\n",
       "      <td>20600</td>\n",
       "    </tr>\n",
       "    <tr>\n",
       "      <th>179</th>\n",
       "      <td>0.848110</td>\n",
       "      <td>1</td>\n",
       "      <td>chr2</td>\n",
       "      <td>20150</td>\n",
       "      <td>20650</td>\n",
       "    </tr>\n",
       "    <tr>\n",
       "      <th>180</th>\n",
       "      <td>0.827761</td>\n",
       "      <td>1</td>\n",
       "      <td>chr2</td>\n",
       "      <td>20200</td>\n",
       "      <td>20700</td>\n",
       "    </tr>\n",
       "    <tr>\n",
       "      <th>181</th>\n",
       "      <td>0.928233</td>\n",
       "      <td>1</td>\n",
       "      <td>chr2</td>\n",
       "      <td>20250</td>\n",
       "      <td>20750</td>\n",
       "    </tr>\n",
       "    <tr>\n",
       "      <th>182</th>\n",
       "      <td>0.827783</td>\n",
       "      <td>1</td>\n",
       "      <td>chr2</td>\n",
       "      <td>20300</td>\n",
       "      <td>20800</td>\n",
       "    </tr>\n",
       "    <tr>\n",
       "      <th>...</th>\n",
       "      <td>...</td>\n",
       "      <td>...</td>\n",
       "      <td>...</td>\n",
       "      <td>...</td>\n",
       "      <td>...</td>\n",
       "    </tr>\n",
       "    <tr>\n",
       "      <th>4338853</th>\n",
       "      <td>0.969007</td>\n",
       "      <td>1</td>\n",
       "      <td>chr2</td>\n",
       "      <td>242080750</td>\n",
       "      <td>242081250</td>\n",
       "    </tr>\n",
       "    <tr>\n",
       "      <th>4338854</th>\n",
       "      <td>0.961633</td>\n",
       "      <td>1</td>\n",
       "      <td>chr2</td>\n",
       "      <td>242080800</td>\n",
       "      <td>242081300</td>\n",
       "    </tr>\n",
       "    <tr>\n",
       "      <th>4338855</th>\n",
       "      <td>0.952246</td>\n",
       "      <td>1</td>\n",
       "      <td>chr2</td>\n",
       "      <td>242080850</td>\n",
       "      <td>242081350</td>\n",
       "    </tr>\n",
       "    <tr>\n",
       "      <th>4338856</th>\n",
       "      <td>0.734283</td>\n",
       "      <td>1</td>\n",
       "      <td>chr2</td>\n",
       "      <td>242080900</td>\n",
       "      <td>242081400</td>\n",
       "    </tr>\n",
       "    <tr>\n",
       "      <th>4338857</th>\n",
       "      <td>0.466313</td>\n",
       "      <td>1</td>\n",
       "      <td>chr2</td>\n",
       "      <td>242080950</td>\n",
       "      <td>242081450</td>\n",
       "    </tr>\n",
       "  </tbody>\n",
       "</table>\n",
       "<p>23767 rows × 5 columns</p>\n",
       "</div>"
      ],
      "text/plain": [
       "                0  1     2          3          4\n",
       "178      0.566600  1  chr2      20100      20600\n",
       "179      0.848110  1  chr2      20150      20650\n",
       "180      0.827761  1  chr2      20200      20700\n",
       "181      0.928233  1  chr2      20250      20750\n",
       "182      0.827783  1  chr2      20300      20800\n",
       "...           ... ..   ...        ...        ...\n",
       "4338853  0.969007  1  chr2  242080750  242081250\n",
       "4338854  0.961633  1  chr2  242080800  242081300\n",
       "4338855  0.952246  1  chr2  242080850  242081350\n",
       "4338856  0.734283  1  chr2  242080900  242081400\n",
       "4338857  0.466313  1  chr2  242080950  242081450\n",
       "\n",
       "[23767 rows x 5 columns]"
      ]
     },
     "execution_count": 24,
     "metadata": {},
     "output_type": "execute_result"
    }
   ],
   "source": [
    "df.loc[(df[1]==1)&(df[0]>0.1)]"
   ]
  },
  {
   "cell_type": "code",
   "execution_count": 25,
   "id": "788ee34d",
   "metadata": {},
   "outputs": [
    {
     "data": {
      "text/plain": [
       "array(['chr2'], dtype=object)"
      ]
     },
     "execution_count": 25,
     "metadata": {},
     "output_type": "execute_result"
    }
   ],
   "source": [
    "df[2].unique()"
   ]
  },
  {
   "cell_type": "code",
   "execution_count": 26,
   "id": "b9186c6c",
   "metadata": {},
   "outputs": [
    {
     "data": {
      "text/plain": [
       "0"
      ]
     },
     "execution_count": 26,
     "metadata": {},
     "output_type": "execute_result"
    }
   ],
   "source": [
    "10%10"
   ]
  },
  {
   "cell_type": "code",
   "execution_count": null,
   "id": "54f8b187",
   "metadata": {},
   "outputs": [],
   "source": []
  }
 ],
 "metadata": {
  "kernelspec": {
   "display_name": "Python 3",
   "language": "python",
   "name": "python3"
  },
  "language_info": {
   "codemirror_mode": {
    "name": "ipython",
    "version": 3
   },
   "file_extension": ".py",
   "mimetype": "text/x-python",
   "name": "python",
   "nbconvert_exporter": "python",
   "pygments_lexer": "ipython3",
   "version": "3.7.10"
  }
 },
 "nbformat": 4,
 "nbformat_minor": 5
}
