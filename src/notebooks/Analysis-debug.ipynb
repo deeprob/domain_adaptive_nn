{
 "cells": [
  {
   "cell_type": "code",
   "execution_count": 1,
   "id": "c89f5367",
   "metadata": {},
   "outputs": [],
   "source": [
    "from sklearn.metrics import precision_recall_curve, average_precision_score, auc\n",
    "import pandas as pd\n",
    "import matplotlib.pyplot as plt\n",
    "%matplotlib inline\n",
    "import numpy as np\n",
    "from tqdm.notebook import tqdm\n",
    "import re"
   ]
  },
  {
   "cell_type": "code",
   "execution_count": 2,
   "id": "f7e0bef7",
   "metadata": {},
   "outputs": [],
   "source": [
    "def get_pr_scores(results_file):\n",
    "    \n",
    "    results_df = pd.read_csv(results_file, header=None)\n",
    "    y_pred = results_df[0].values\n",
    "    y_true = results_df[1].values\n",
    "    \n",
    "    precision, recall, thresholds = precision_recall_curve(y_true, y_pred)\n",
    "    avg_score = average_precision_score(y_true, y_pred) \n",
    "    \n",
    "    return avg_score, precision, recall, thresholds\n",
    "\n",
    "\n",
    "def get_auprc(recall, precision):\n",
    "    # x must be monotonically increasing or decreasing\n",
    "    return auc(recall, precision)"
   ]
  },
  {
   "cell_type": "code",
   "execution_count": 3,
   "id": "8b8278e1",
   "metadata": {},
   "outputs": [],
   "source": [
    "# GLOBALS\n",
    "PILOT=False\n",
    "MODEL_NAME=\"adda\"\n",
    "TF=\"RXRA\"\n",
    "\n",
    "if PILOT:\n",
    "    suffix = \"_pilot\"\n",
    "else:\n",
    "    suffix = \"\""
   ]
  },
  {
   "cell_type": "code",
   "execution_count": 4,
   "id": "2c749183",
   "metadata": {},
   "outputs": [],
   "source": [
    "def get_auprc_multiprocess(i):\n",
    "    source_file = f\"../results/mm10_archive/{TF}/{MODEL_NAME}_src_epoch{i}.csv.gz\"\n",
    "    target_file = f\"../results/mm10_archive/{TF}/{MODEL_NAME}_tgt_epoch{i}.csv.gz\"\n",
    "    \n",
    "    source_metrics = get_pr_scores(source_file)\n",
    "    target_metrics = get_pr_scores(target_file)\n",
    "    \n",
    "    src_auprc = get_auprc(source_metrics[2], source_metrics[1])\n",
    "    tgt_auprc = get_auprc(target_metrics[2], target_metrics[1])\n",
    "    \n",
    "    return i,src_auprc,tgt_auprc  "
   ]
  },
  {
   "cell_type": "markdown",
   "id": "02efc59d",
   "metadata": {},
   "source": [
    "# Analyzing log files"
   ]
  },
  {
   "cell_type": "markdown",
   "id": "edf4183f",
   "metadata": {},
   "source": [
    "## ADDA"
   ]
  },
  {
   "cell_type": "code",
   "execution_count": 5,
   "id": "cec3186c",
   "metadata": {},
   "outputs": [],
   "source": [
    "string = \"DEBUG:root:Source Validation APS: 0.333136152601636, Target Validation APS: 0.18968891579734382 after 0 epochs.\""
   ]
  },
  {
   "cell_type": "code",
   "execution_count": 6,
   "id": "92cc9a04",
   "metadata": {},
   "outputs": [],
   "source": [
    "def get_auprcs_adda(string):\n",
    "    pattern = re.compile(\".+Source Validation APS: ([\\.\\d]+).+Target Validation APS: ([\\.\\d]+).+([\\d]+) epochs.$\")\n",
    "    m = re.match(pattern, string)\n",
    "    if m:\n",
    "        src_auprc = m.group(1)\n",
    "        tgt_auprc = m.group(2)\n",
    "        epoch_num = m.group(3)\n",
    "        return epoch_num, src_auprc, tgt_auprc  \n",
    "    return "
   ]
  },
  {
   "cell_type": "code",
   "execution_count": 7,
   "id": "578e912e",
   "metadata": {},
   "outputs": [
    {
     "data": {
      "text/plain": [
       "('0', '0.333136152601636', '0.18968891579734382')"
      ]
     },
     "execution_count": 7,
     "metadata": {},
     "output_type": "execute_result"
    }
   ],
   "source": [
    "get_auprcs_adda(string)"
   ]
  },
  {
   "cell_type": "code",
   "execution_count": 8,
   "id": "eeeec02c",
   "metadata": {},
   "outputs": [],
   "source": [
    "logfile = f\"./log/{TF}_adda.log\"\n",
    "met_list = []\n",
    "\n",
    "with open(logfile, \"r\") as f:\n",
    "    for lines in f:\n",
    "        info = get_auprcs_adda(lines)\n",
    "        if info:\n",
    "            met_list.append(tuple(map(float, info)))\n"
   ]
  },
  {
   "cell_type": "code",
   "execution_count": 9,
   "id": "1de97642",
   "metadata": {
    "scrolled": true
   },
   "outputs": [
    {
     "data": {
      "text/plain": [
       "[(0.0, 0.2112118428769049, 0.1745473957906786),\n",
       " (1.0, 0.1791781601522966, 0.15555242666885227),\n",
       " (2.0, 0.20920405375174783, 0.18551269116478983),\n",
       " (3.0, 0.20559817582253054, 0.19117242021436442),\n",
       " (4.0, 0.20550993080240612, 0.1895218639713812),\n",
       " (5.0, 0.2057616751278691, 0.20232295656889251),\n",
       " (6.0, 0.20309807804016214, 0.19610913727627519),\n",
       " (7.0, 0.1959296488492169, 0.19225092385368664),\n",
       " (8.0, 0.18143861750427634, 0.18673728733787756),\n",
       " (9.0, 0.18163317159958714, 0.1807826353885628)]"
      ]
     },
     "execution_count": 9,
     "metadata": {},
     "output_type": "execute_result"
    }
   ],
   "source": [
    "met_list"
   ]
  },
  {
   "cell_type": "code",
   "execution_count": 10,
   "id": "f119f71d",
   "metadata": {},
   "outputs": [
    {
     "data": {
      "image/png": "[encoded data removed]",
      "text/plain": [
       "<Figure size 432x288 with 1 Axes>"
      ]
     },
     "metadata": {
      "needs_background": "light"
     },
     "output_type": "display_data"
    }
   ],
   "source": [
    "epochs = list(map(int, [m[0] for m in met_list]))\n",
    "src_auprcs = [m[1] for m in met_list]\n",
    "tgt_auprcs = [m[2] for m in met_list]\n",
    "\n",
    "plt.plot(epochs, src_auprcs, label=\"source\", linestyle=\"dotted\")\n",
    "plt.plot(epochs, tgt_auprcs, label=\"target\", linestyle=\"dashed\")\n",
    "plt.legend();\n",
    "plt.xlabel(\"Epochs\")\n",
    "plt.ylabel(\"AUPRC\")\n",
    "plt.title(f\"Validation auprc against epochs for {TF} using ADDA\");"
   ]
  },
  {
   "cell_type": "code",
   "execution_count": null,
   "id": "fc398976",
   "metadata": {},
   "outputs": [],
   "source": []
  }
 ],
 "metadata": {
  "kernelspec": {
   "display_name": "Python 3",
   "language": "python",
   "name": "python3"
  },
  "language_info": {
   "codemirror_mode": {
    "name": "ipython",
    "version": 3
   },
   "file_extension": ".py",
   "mimetype": "text/x-python",
   "name": "python",
   "nbconvert_exporter": "python",
   "pygments_lexer": "ipython3",
   "version": "3.7.10"
  }
 },
 "nbformat": 4,
 "nbformat_minor": 5
}
