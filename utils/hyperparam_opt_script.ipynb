{
 "cells": [
  {
   "cell_type": "code",
   "execution_count": 1,
   "id": "1ac2331f",
   "metadata": {},
   "outputs": [
    {
     "name": "stderr",
     "output_type": "stream",
     "text": [
      "/storage/home/d/dzb5732/work/.dda/lib/python3.7/site-packages/ray/autoscaler/_private/cli_logger.py:61: FutureWarning: Not all Ray CLI dependencies were found. In Ray 1.4+, the Ray CLI, autoscaler, and dashboard will only be usable via `pip install 'ray[default]'`. Please update your install command.\n",
      "  \"update your install command.\", FutureWarning)\n"
     ]
    }
   ],
   "source": [
    "from pyfaidx import Fasta\n",
    "import pandas as pd\n",
    "import sys\n",
    "import os\n",
    "import numpy as np\n",
    "import torch\n",
    "from torch.utils.data import Dataset, DataLoader, WeightedRandomSampler, RandomSampler, Sampler\n",
    "import torch.nn as nn\n",
    "import torch.nn.functional as F\n",
    "import torch.optim as optim\n",
    "from argparse import Namespace\n",
    "import tqdm\n",
    "import itertools\n",
    "from collections import Counter\n",
    "from sklearn.metrics import average_precision_score\n",
    "import gzip\n",
    "from functools import partial\n",
    "from ray import tune\n",
    "from ray.tune import JupyterNotebookReporter\n",
    "from ray.tune.schedulers import ASHAScheduler"
   ]
  },
  {
   "cell_type": "code",
   "execution_count": 2,
   "id": "101e8ca2",
   "metadata": {},
   "outputs": [],
   "source": [
    "from torchdataset import *\n",
    "from torchsamplers import *\n",
    "from torchclassifiers import *\n",
    "from torchutils import *"
   ]
  },
  {
   "cell_type": "code",
   "execution_count": 3,
   "id": "61afbad6",
   "metadata": {},
   "outputs": [],
   "source": [
    "### GLOBALS \n",
    "SOURCE_GENOME=\"mm10\"\n",
    "TF=\"CTCF\"\n",
    "GENOME_FASTA='/storage/home/dzb5732/work/domain_adaptive_nn/genomes/mm10_no_alt_analysis_set_ENCODE.fasta'\n",
    "PILOT_STUDY=False\n",
    "FEAT_METHOD=\"ohe\"\n",
    "KMER_LENGTH=7\n",
    "PYTORCH_DEVICE=\"cuda\"\n",
    "TRAIN=True"
   ]
  },
  {
   "cell_type": "markdown",
   "id": "5452f12f",
   "metadata": {},
   "source": [
    "# Model Name to Object Mapper"
   ]
  },
  {
   "cell_type": "markdown",
   "id": "bfca5533",
   "metadata": {},
   "source": [
    "# State defining arguments"
   ]
  },
  {
   "cell_type": "code",
   "execution_count": 4,
   "id": "3f586a82",
   "metadata": {},
   "outputs": [
    {
     "name": "stdout",
     "output_type": "stream",
     "text": [
      "Using CUDA: True\n"
     ]
    }
   ],
   "source": [
    "args = Namespace(\n",
    "    # Data and Path information\n",
    "#    model_state_file=f'{MODEL_NAME}_{FEAT_METHOD}.pth',\n",
    "    tf_csv=f'/storage/home/dzb5732/work/domain_adaptive_nn/data/{SOURCE_GENOME}/{TF}/split_data.csv.gz',\n",
    "    genome_fasta=GENOME_FASTA,\n",
    "    # model vectorizer parameters\n",
    "    ohe=True if FEAT_METHOD==\"ohe\" else False,\n",
    "    k=KMER_LENGTH,\n",
    "    # Model hyper parameters\n",
    "    cuda=True if PYTORCH_DEVICE==\"cuda\" else False,\n",
    "    expand_filepaths_to_save_dir=True,\n",
    "    seed=1337,\n",
    "    pilot=PILOT_STUDY\n",
    ")\n",
    "    \n",
    "# Check CUDA\n",
    "if not torch.cuda.is_available():\n",
    "    args.cuda = False\n",
    "\n",
    "print(\"Using CUDA: {}\".format(args.cuda))\n",
    "\n",
    "args.device = torch.device(\"cuda\" if args.cuda else \"cpu\")\n",
    "\n",
    "# Set seed for reproducibility\n",
    "set_seed_everywhere(args.seed, args.cuda)"
   ]
  },
  {
   "cell_type": "markdown",
   "id": "174f68be",
   "metadata": {},
   "source": [
    "# Initialize Dataset and Model"
   ]
  },
  {
   "cell_type": "code",
   "execution_count": 5,
   "id": "5771e8e5",
   "metadata": {
    "scrolled": true
   },
   "outputs": [],
   "source": [
    "def load_data(args):\n",
    "    dataset = TFDataset.load_dataset_and_vectorizer_from_path(args.tf_csv, \n",
    "                                                              args.genome_fasta, \n",
    "                                                              ohe=args.ohe, \n",
    "                                                              k=args.k)\n",
    "    return dataset"
   ]
  },
  {
   "cell_type": "code",
   "execution_count": 6,
   "id": "be014316",
   "metadata": {},
   "outputs": [],
   "source": [
    "def make_samplers(dataset, args):\n",
    "    dataset.set_split('train')\n",
    "    # generate train sampler\n",
    "    train_sampler = get_sampler(dataset, weighted=True, mini=args.pilot)\n",
    "    dataset.set_split('valid')\n",
    "    # generate valid sampler\n",
    "    valid_sampler = get_sampler(dataset, weighted=True, mini=args.pilot)\n",
    "    return train_sampler, valid_sampler"
   ]
  },
  {
   "cell_type": "markdown",
   "id": "fdb16331",
   "metadata": {},
   "source": [
    "# Train function"
   ]
  },
  {
   "cell_type": "code",
   "execution_count": 7,
   "id": "3e9cf002",
   "metadata": {},
   "outputs": [],
   "source": [
    "def train_func(config, checkpoint_dir, args):\n",
    "    \n",
    "    dataset = load_data(args)\n",
    "    train_sampler, valid_sampler = make_samplers(dataset, args)\n",
    "    \n",
    "    net = TFHybrid(config[\"cnn_filters\"],\n",
    "                   config[\"cnn_kernel\"],\n",
    "                   config[\"pool_size\"],\n",
    "                   config[\"pool_strides\"],\n",
    "                   config[\"lstm_out\"],\n",
    "                   config[\"fc1_nodes\"],\n",
    "                   config[\"fc2_nodes\"],\n",
    "                   config[\"drop_prob\"])\n",
    "    \n",
    "    device = \"cpu\"\n",
    "    if torch.cuda.is_available():\n",
    "        device = \"cuda:0\"\n",
    "        if torch.cuda.device_count() > 1:\n",
    "            net = nn.DataParallel(net)\n",
    "    net.to(device)\n",
    "    \n",
    "    criterion = nn.BCEWithLogitsLoss()\n",
    "    optimizer = optim.Adam(net.parameters(), lr=config[\"lr\"])\n",
    "    scheduler = optim.lr_scheduler.ReduceLROnPlateau(optimizer=optimizer,\n",
    "                                                 mode='min', factor=0.5,\n",
    "                                                 patience=1)\n",
    "\n",
    "    \n",
    "    if checkpoint_dir:\n",
    "        model_state, optimizer_state = torch.load(\n",
    "            os.path.join(checkpoint_dir, \"checkpoint\"))\n",
    "        net.load_state_dict(model_state)\n",
    "        optimizer.load_state_dict(optimizer_state)\n",
    "    \n",
    "\n",
    "    dataset.set_split(\"train\")\n",
    "    train_loader = DataLoader(dataset=dataset, batch_size=int(config[\"batch_size\"]),\n",
    "                       sampler=train_sampler, shuffle=False,\n",
    "                       drop_last=True, num_workers=4)\n",
    "        \n",
    "    \n",
    "    dataset.set_split(\"valid\")\n",
    "    valid_loader = DataLoader(dataset=dataset, batch_size=int(config[\"batch_size\"]),\n",
    "                       sampler=valid_sampler, shuffle=False,\n",
    "                       drop_last=True, num_workers=4)\n",
    "    \n",
    "    \n",
    "    \n",
    "    for epoch in range(10):  # loop over the dataset multiple times\n",
    "        running_loss = 0.0\n",
    "        epoch_steps = 0\n",
    "        net.train()\n",
    "        dataset.set_split(\"train\")\n",
    "        for i, data in enumerate(train_loader, 0):\n",
    "            # get the inputs; data is a list of [inputs, labels]\n",
    "            inputs, labels = data[\"x_data\"], data[\"y_target\"]\n",
    "            inputs, labels = inputs.to(device), labels.to(device)\n",
    "\n",
    "            # zero the parameter gradients\n",
    "            optimizer.zero_grad()\n",
    "\n",
    "            # forward + backward + optimize\n",
    "            outputs = net(inputs)\n",
    "            loss = criterion(outputs, labels.float())\n",
    "            loss.backward()\n",
    "            optimizer.step()\n",
    "\n",
    "            # print statistics\n",
    "            running_loss += loss.item()\n",
    "            epoch_steps += 1\n",
    "            if i % 2000 == 1999:  # print every 2000 mini-batches\n",
    "                print(\"[%d, %5d] loss: %.3f\" % (epoch + 1, i + 1,\n",
    "                                                running_loss / epoch_steps))\n",
    "                running_loss = 0.0  \n",
    "                \n",
    "        # Validation loss\n",
    "        net.eval()\n",
    "        dataset.set_split(\"valid\")\n",
    "        val_loss = 0.0\n",
    "        val_steps = 0\n",
    "        total = 0\n",
    "        correct = 0\n",
    "        for i, data in enumerate(valid_loader, 0):\n",
    "            with torch.no_grad():\n",
    "                inputs, labels = data[\"x_data\"], data[\"y_target\"]\n",
    "                inputs, labels = inputs.to(device), labels.to(device)\n",
    "\n",
    "                outputs = net(inputs)\n",
    "\n",
    "                loss = criterion(outputs, labels.float())\n",
    "                val_loss += loss.cpu().numpy()\n",
    "                val_steps += 1\n",
    "\n",
    "        with tune.checkpoint_dir(epoch) as checkpoint_dir:\n",
    "            path = os.path.join(checkpoint_dir, \"checkpoint\")\n",
    "            torch.save((net.state_dict(), optimizer.state_dict()), path)\n",
    "\n",
    "        tune.report(loss=(val_loss / val_steps))\n",
    "    \n",
    "    return"
   ]
  },
  {
   "cell_type": "markdown",
   "id": "11544daa",
   "metadata": {},
   "source": [
    "# hpopt main function"
   ]
  },
  {
   "cell_type": "code",
   "execution_count": 8,
   "id": "4e9eef80",
   "metadata": {},
   "outputs": [],
   "source": [
    "def main(args, checkpoint_dir=\"/storage/home/dzb5732/scratch/\", num_samples=20, max_num_epochs=25, gpus_per_trial=1):\n",
    "    \n",
    "    config = {\n",
    "          \"cnn_filters\":tune.choice([120, 240]), \n",
    "          \"cnn_kernel\":tune.choice([20, 40, 60]), \n",
    "          \"pool_size\":tune.choice([15, 30]), \n",
    "          \"pool_strides\":tune.choice([15]),\n",
    "          \"lstm_out\":tune.choice([32, 64, 128, 256]), \n",
    "          \"fc1_nodes\":tune.choice([512, 1024]), \n",
    "          \"fc2_nodes\":tune.choice([128, 256, 512]), \n",
    "          \"drop_prob\":tune.choice([0.5]),\n",
    "          \"lr\": tune.choice([1e-3]),\n",
    "          \"batch_size\": tune.choice([512])\n",
    "    }\n",
    "    \n",
    "\n",
    "    scheduler = ASHAScheduler(\n",
    "        metric=\"loss\",\n",
    "        mode=\"min\",\n",
    "        max_t=max_num_epochs,\n",
    "        grace_period=1,\n",
    "        reduction_factor=2)\n",
    "    \n",
    "\n",
    "    reporter = JupyterNotebookReporter(overwrite=True,\n",
    "        metric_columns=[\"loss\", \"training_iteration\"])\n",
    "\n",
    "    \n",
    "    result = tune.run(\n",
    "        partial(train_func, checkpoint_dir=checkpoint_dir, args=args),\n",
    "        resources_per_trial={\"cpu\": 4, \"gpu\": gpus_per_trial},\n",
    "        config=config,\n",
    "        num_samples=num_samples,\n",
    "        scheduler=scheduler,\n",
    "        progress_reporter=reporter,\n",
    "        local_dir=\"/storage/home/dzb5732/scratch/ray_results/\",)\n",
    "    \n",
    "    best_trial = result.get_best_trial(\"loss\", \"min\", \"last\")\n",
    "    print(\"Best trial config: {}\".format(best_trial.config))\n",
    "    print(\"Best trial final validation loss: {}\".format(best_trial.last_result[\"loss\"]))\n",
    "    \n",
    "    return best_trial"
   ]
  },
  {
   "cell_type": "code",
   "execution_count": 9,
   "id": "4f1b0d26",
   "metadata": {},
   "outputs": [
    {
     "data": {
      "text/html": [
       "== Status ==<br>Memory usage on this node: 24.4/251.5 GiB<br>Using AsyncHyperBand: num_stopped=36\n",
       "Bracket: Iter 16.000: None | Iter 8.000: -0.17375159868509463 | Iter 4.000: -0.19651544344897318 | Iter 2.000: -0.20741040473527247 | Iter 1.000: -0.2310452186825252<br>Resources requested: 0/24 CPUs, 0/4 GPUs, 0.0/153.09 GiB heap, 0.0/69.6 GiB objects (0.0/1.0 GPU_group_6ca8e4e47a616917765f1c1d7a467760, 0.0/1.0 accelerator_type:K80, 0.0/4.0 CPU_group_0_6ca8e4e47a616917765f1c1d7a467760, 0.0/4.0 CPU_group_6ca8e4e47a616917765f1c1d7a467760, 0.0/1.0 GPU_group_0_6ca8e4e47a616917765f1c1d7a467760)<br>Result logdir: /storage/home/dzb5732/scratch/ray_results/DEFAULT_2021-08-20_18-21-08<br>Number of trials: 40/40 (40 TERMINATED)<br><table>\n",
       "<thead>\n",
       "<tr><th>Trial name         </th><th>status    </th><th>loc  </th><th style=\"text-align: right;\">  batch_size</th><th style=\"text-align: right;\">  cnn_filters</th><th style=\"text-align: right;\">  cnn_kernel</th><th style=\"text-align: right;\">  drop_prob</th><th style=\"text-align: right;\">  fc1_nodes</th><th style=\"text-align: right;\">  fc2_nodes</th><th style=\"text-align: right;\">   lr</th><th style=\"text-align: right;\">  lstm_out</th><th style=\"text-align: right;\">  pool_size</th><th style=\"text-align: right;\">  pool_strides</th><th style=\"text-align: right;\">    loss</th><th style=\"text-align: right;\">  training_iteration</th></tr>\n",
       "</thead>\n",
       "<tbody>\n",
       "<tr><td>DEFAULT_eb178_00000</td><td>TERMINATED</td><td>     </td><td style=\"text-align: right;\">         512</td><td style=\"text-align: right;\">          240</td><td style=\"text-align: right;\">          40</td><td style=\"text-align: right;\">        0.5</td><td style=\"text-align: right;\">       1024</td><td style=\"text-align: right;\">        256</td><td style=\"text-align: right;\">0.001</td><td style=\"text-align: right;\">        32</td><td style=\"text-align: right;\">         15</td><td style=\"text-align: right;\">            15</td><td style=\"text-align: right;\">0.212046</td><td style=\"text-align: right;\">                   4</td></tr>\n",
       "<tr><td>DEFAULT_eb178_00001</td><td>TERMINATED</td><td>     </td><td style=\"text-align: right;\">         512</td><td style=\"text-align: right;\">          120</td><td style=\"text-align: right;\">          60</td><td style=\"text-align: right;\">        0.5</td><td style=\"text-align: right;\">       1024</td><td style=\"text-align: right;\">        512</td><td style=\"text-align: right;\">0.001</td><td style=\"text-align: right;\">        32</td><td style=\"text-align: right;\">         15</td><td style=\"text-align: right;\">            15</td><td style=\"text-align: right;\">0.240639</td><td style=\"text-align: right;\">                   1</td></tr>\n",
       "<tr><td>DEFAULT_eb178_00002</td><td>TERMINATED</td><td>     </td><td style=\"text-align: right;\">         512</td><td style=\"text-align: right;\">          240</td><td style=\"text-align: right;\">          20</td><td style=\"text-align: right;\">        0.5</td><td style=\"text-align: right;\">       1024</td><td style=\"text-align: right;\">        512</td><td style=\"text-align: right;\">0.001</td><td style=\"text-align: right;\">       256</td><td style=\"text-align: right;\">         30</td><td style=\"text-align: right;\">            15</td><td style=\"text-align: right;\">0.20741 </td><td style=\"text-align: right;\">                   2</td></tr>\n",
       "<tr><td>DEFAULT_eb178_00003</td><td>TERMINATED</td><td>     </td><td style=\"text-align: right;\">         512</td><td style=\"text-align: right;\">          120</td><td style=\"text-align: right;\">          40</td><td style=\"text-align: right;\">        0.5</td><td style=\"text-align: right;\">       1024</td><td style=\"text-align: right;\">        128</td><td style=\"text-align: right;\">0.001</td><td style=\"text-align: right;\">       256</td><td style=\"text-align: right;\">         15</td><td style=\"text-align: right;\">            15</td><td style=\"text-align: right;\">0.182485</td><td style=\"text-align: right;\">                  10</td></tr>\n",
       "<tr><td>DEFAULT_eb178_00004</td><td>TERMINATED</td><td>     </td><td style=\"text-align: right;\">         512</td><td style=\"text-align: right;\">          120</td><td style=\"text-align: right;\">          40</td><td style=\"text-align: right;\">        0.5</td><td style=\"text-align: right;\">       1024</td><td style=\"text-align: right;\">        256</td><td style=\"text-align: right;\">0.001</td><td style=\"text-align: right;\">       256</td><td style=\"text-align: right;\">         30</td><td style=\"text-align: right;\">            15</td><td style=\"text-align: right;\">0.233503</td><td style=\"text-align: right;\">                   1</td></tr>\n",
       "<tr><td>DEFAULT_eb178_00005</td><td>TERMINATED</td><td>     </td><td style=\"text-align: right;\">         512</td><td style=\"text-align: right;\">          120</td><td style=\"text-align: right;\">          20</td><td style=\"text-align: right;\">        0.5</td><td style=\"text-align: right;\">        512</td><td style=\"text-align: right;\">        256</td><td style=\"text-align: right;\">0.001</td><td style=\"text-align: right;\">       256</td><td style=\"text-align: right;\">         30</td><td style=\"text-align: right;\">            15</td><td style=\"text-align: right;\">0.220591</td><td style=\"text-align: right;\">                   2</td></tr>\n",
       "<tr><td>DEFAULT_eb178_00006</td><td>TERMINATED</td><td>     </td><td style=\"text-align: right;\">         512</td><td style=\"text-align: right;\">          240</td><td style=\"text-align: right;\">          20</td><td style=\"text-align: right;\">        0.5</td><td style=\"text-align: right;\">        512</td><td style=\"text-align: right;\">        512</td><td style=\"text-align: right;\">0.001</td><td style=\"text-align: right;\">        32</td><td style=\"text-align: right;\">         15</td><td style=\"text-align: right;\">            15</td><td style=\"text-align: right;\">0.263245</td><td style=\"text-align: right;\">                   1</td></tr>\n",
       "<tr><td>DEFAULT_eb178_00007</td><td>TERMINATED</td><td>     </td><td style=\"text-align: right;\">         512</td><td style=\"text-align: right;\">          240</td><td style=\"text-align: right;\">          20</td><td style=\"text-align: right;\">        0.5</td><td style=\"text-align: right;\">       1024</td><td style=\"text-align: right;\">        256</td><td style=\"text-align: right;\">0.001</td><td style=\"text-align: right;\">       128</td><td style=\"text-align: right;\">         15</td><td style=\"text-align: right;\">            15</td><td style=\"text-align: right;\">0.243081</td><td style=\"text-align: right;\">                   1</td></tr>\n",
       "<tr><td>DEFAULT_eb178_00008</td><td>TERMINATED</td><td>     </td><td style=\"text-align: right;\">         512</td><td style=\"text-align: right;\">          120</td><td style=\"text-align: right;\">          20</td><td style=\"text-align: right;\">        0.5</td><td style=\"text-align: right;\">       1024</td><td style=\"text-align: right;\">        128</td><td style=\"text-align: right;\">0.001</td><td style=\"text-align: right;\">       128</td><td style=\"text-align: right;\">         15</td><td style=\"text-align: right;\">            15</td><td style=\"text-align: right;\">0.24713 </td><td style=\"text-align: right;\">                   1</td></tr>\n",
       "<tr><td>DEFAULT_eb178_00009</td><td>TERMINATED</td><td>     </td><td style=\"text-align: right;\">         512</td><td style=\"text-align: right;\">          240</td><td style=\"text-align: right;\">          20</td><td style=\"text-align: right;\">        0.5</td><td style=\"text-align: right;\">       1024</td><td style=\"text-align: right;\">        256</td><td style=\"text-align: right;\">0.001</td><td style=\"text-align: right;\">       128</td><td style=\"text-align: right;\">         30</td><td style=\"text-align: right;\">            15</td><td style=\"text-align: right;\">0.246438</td><td style=\"text-align: right;\">                   1</td></tr>\n",
       "<tr><td>DEFAULT_eb178_00010</td><td>TERMINATED</td><td>     </td><td style=\"text-align: right;\">         512</td><td style=\"text-align: right;\">          240</td><td style=\"text-align: right;\">          60</td><td style=\"text-align: right;\">        0.5</td><td style=\"text-align: right;\">       1024</td><td style=\"text-align: right;\">        128</td><td style=\"text-align: right;\">0.001</td><td style=\"text-align: right;\">        32</td><td style=\"text-align: right;\">         15</td><td style=\"text-align: right;\">            15</td><td style=\"text-align: right;\">0.2157  </td><td style=\"text-align: right;\">                   2</td></tr>\n",
       "<tr><td>DEFAULT_eb178_00011</td><td>TERMINATED</td><td>     </td><td style=\"text-align: right;\">         512</td><td style=\"text-align: right;\">          240</td><td style=\"text-align: right;\">          20</td><td style=\"text-align: right;\">        0.5</td><td style=\"text-align: right;\">        512</td><td style=\"text-align: right;\">        256</td><td style=\"text-align: right;\">0.001</td><td style=\"text-align: right;\">        64</td><td style=\"text-align: right;\">         30</td><td style=\"text-align: right;\">            15</td><td style=\"text-align: right;\">0.245249</td><td style=\"text-align: right;\">                   2</td></tr>\n",
       "<tr><td>DEFAULT_eb178_00012</td><td>TERMINATED</td><td>     </td><td style=\"text-align: right;\">         512</td><td style=\"text-align: right;\">          120</td><td style=\"text-align: right;\">          20</td><td style=\"text-align: right;\">        0.5</td><td style=\"text-align: right;\">        512</td><td style=\"text-align: right;\">        512</td><td style=\"text-align: right;\">0.001</td><td style=\"text-align: right;\">        64</td><td style=\"text-align: right;\">         30</td><td style=\"text-align: right;\">            15</td><td style=\"text-align: right;\">0.245191</td><td style=\"text-align: right;\">                   1</td></tr>\n",
       "<tr><td>DEFAULT_eb178_00013</td><td>TERMINATED</td><td>     </td><td style=\"text-align: right;\">         512</td><td style=\"text-align: right;\">          120</td><td style=\"text-align: right;\">          20</td><td style=\"text-align: right;\">        0.5</td><td style=\"text-align: right;\">        512</td><td style=\"text-align: right;\">        256</td><td style=\"text-align: right;\">0.001</td><td style=\"text-align: right;\">        32</td><td style=\"text-align: right;\">         15</td><td style=\"text-align: right;\">            15</td><td style=\"text-align: right;\">0.263823</td><td style=\"text-align: right;\">                   1</td></tr>\n",
       "<tr><td>DEFAULT_eb178_00014</td><td>TERMINATED</td><td>     </td><td style=\"text-align: right;\">         512</td><td style=\"text-align: right;\">          120</td><td style=\"text-align: right;\">          60</td><td style=\"text-align: right;\">        0.5</td><td style=\"text-align: right;\">       1024</td><td style=\"text-align: right;\">        512</td><td style=\"text-align: right;\">0.001</td><td style=\"text-align: right;\">       128</td><td style=\"text-align: right;\">         30</td><td style=\"text-align: right;\">            15</td><td style=\"text-align: right;\">0.181598</td><td style=\"text-align: right;\">                   8</td></tr>\n",
       "<tr><td>DEFAULT_eb178_00015</td><td>TERMINATED</td><td>     </td><td style=\"text-align: right;\">         512</td><td style=\"text-align: right;\">          120</td><td style=\"text-align: right;\">          60</td><td style=\"text-align: right;\">        0.5</td><td style=\"text-align: right;\">        512</td><td style=\"text-align: right;\">        128</td><td style=\"text-align: right;\">0.001</td><td style=\"text-align: right;\">        64</td><td style=\"text-align: right;\">         30</td><td style=\"text-align: right;\">            15</td><td style=\"text-align: right;\">0.201919</td><td style=\"text-align: right;\">                   4</td></tr>\n",
       "<tr><td>DEFAULT_eb178_00016</td><td>TERMINATED</td><td>     </td><td style=\"text-align: right;\">         512</td><td style=\"text-align: right;\">          240</td><td style=\"text-align: right;\">          40</td><td style=\"text-align: right;\">        0.5</td><td style=\"text-align: right;\">       1024</td><td style=\"text-align: right;\">        128</td><td style=\"text-align: right;\">0.001</td><td style=\"text-align: right;\">        64</td><td style=\"text-align: right;\">         15</td><td style=\"text-align: right;\">            15</td><td style=\"text-align: right;\">0.219673</td><td style=\"text-align: right;\">                   2</td></tr>\n",
       "<tr><td>DEFAULT_eb178_00017</td><td>TERMINATED</td><td>     </td><td style=\"text-align: right;\">         512</td><td style=\"text-align: right;\">          240</td><td style=\"text-align: right;\">          40</td><td style=\"text-align: right;\">        0.5</td><td style=\"text-align: right;\">        512</td><td style=\"text-align: right;\">        128</td><td style=\"text-align: right;\">0.001</td><td style=\"text-align: right;\">        64</td><td style=\"text-align: right;\">         15</td><td style=\"text-align: right;\">            15</td><td style=\"text-align: right;\">0.199281</td><td style=\"text-align: right;\">                   4</td></tr>\n",
       "<tr><td>DEFAULT_eb178_00018</td><td>TERMINATED</td><td>     </td><td style=\"text-align: right;\">         512</td><td style=\"text-align: right;\">          240</td><td style=\"text-align: right;\">          20</td><td style=\"text-align: right;\">        0.5</td><td style=\"text-align: right;\">        512</td><td style=\"text-align: right;\">        512</td><td style=\"text-align: right;\">0.001</td><td style=\"text-align: right;\">        64</td><td style=\"text-align: right;\">         30</td><td style=\"text-align: right;\">            15</td><td style=\"text-align: right;\">0.239917</td><td style=\"text-align: right;\">                   1</td></tr>\n",
       "<tr><td>DEFAULT_eb178_00019</td><td>TERMINATED</td><td>     </td><td style=\"text-align: right;\">         512</td><td style=\"text-align: right;\">          120</td><td style=\"text-align: right;\">          40</td><td style=\"text-align: right;\">        0.5</td><td style=\"text-align: right;\">        512</td><td style=\"text-align: right;\">        512</td><td style=\"text-align: right;\">0.001</td><td style=\"text-align: right;\">       256</td><td style=\"text-align: right;\">         15</td><td style=\"text-align: right;\">            15</td><td style=\"text-align: right;\">0.250821</td><td style=\"text-align: right;\">                   1</td></tr>\n",
       "<tr><td>DEFAULT_eb178_00020</td><td>TERMINATED</td><td>     </td><td style=\"text-align: right;\">         512</td><td style=\"text-align: right;\">          240</td><td style=\"text-align: right;\">          20</td><td style=\"text-align: right;\">        0.5</td><td style=\"text-align: right;\">        512</td><td style=\"text-align: right;\">        128</td><td style=\"text-align: right;\">0.001</td><td style=\"text-align: right;\">       256</td><td style=\"text-align: right;\">         30</td><td style=\"text-align: right;\">            15</td><td style=\"text-align: right;\">0.177989</td><td style=\"text-align: right;\">                  10</td></tr>\n",
       "<tr><td>DEFAULT_eb178_00021</td><td>TERMINATED</td><td>     </td><td style=\"text-align: right;\">         512</td><td style=\"text-align: right;\">          120</td><td style=\"text-align: right;\">          40</td><td style=\"text-align: right;\">        0.5</td><td style=\"text-align: right;\">       1024</td><td style=\"text-align: right;\">        512</td><td style=\"text-align: right;\">0.001</td><td style=\"text-align: right;\">       256</td><td style=\"text-align: right;\">         15</td><td style=\"text-align: right;\">            15</td><td style=\"text-align: right;\">0.198619</td><td style=\"text-align: right;\">                   4</td></tr>\n",
       "<tr><td>DEFAULT_eb178_00022</td><td>TERMINATED</td><td>     </td><td style=\"text-align: right;\">         512</td><td style=\"text-align: right;\">          120</td><td style=\"text-align: right;\">          40</td><td style=\"text-align: right;\">        0.5</td><td style=\"text-align: right;\">        512</td><td style=\"text-align: right;\">        128</td><td style=\"text-align: right;\">0.001</td><td style=\"text-align: right;\">       128</td><td style=\"text-align: right;\">         30</td><td style=\"text-align: right;\">            15</td><td style=\"text-align: right;\">0.199416</td><td style=\"text-align: right;\">                   4</td></tr>\n",
       "<tr><td>DEFAULT_eb178_00023</td><td>TERMINATED</td><td>     </td><td style=\"text-align: right;\">         512</td><td style=\"text-align: right;\">          120</td><td style=\"text-align: right;\">          40</td><td style=\"text-align: right;\">        0.5</td><td style=\"text-align: right;\">        512</td><td style=\"text-align: right;\">        256</td><td style=\"text-align: right;\">0.001</td><td style=\"text-align: right;\">        64</td><td style=\"text-align: right;\">         30</td><td style=\"text-align: right;\">            15</td><td style=\"text-align: right;\">0.208116</td><td style=\"text-align: right;\">                   2</td></tr>\n",
       "<tr><td>DEFAULT_eb178_00024</td><td>TERMINATED</td><td>     </td><td style=\"text-align: right;\">         512</td><td style=\"text-align: right;\">          240</td><td style=\"text-align: right;\">          40</td><td style=\"text-align: right;\">        0.5</td><td style=\"text-align: right;\">       1024</td><td style=\"text-align: right;\">        128</td><td style=\"text-align: right;\">0.001</td><td style=\"text-align: right;\">        64</td><td style=\"text-align: right;\">         15</td><td style=\"text-align: right;\">            15</td><td style=\"text-align: right;\">0.233426</td><td style=\"text-align: right;\">                   2</td></tr>\n",
       "<tr><td>DEFAULT_eb178_00025</td><td>TERMINATED</td><td>     </td><td style=\"text-align: right;\">         512</td><td style=\"text-align: right;\">          240</td><td style=\"text-align: right;\">          20</td><td style=\"text-align: right;\">        0.5</td><td style=\"text-align: right;\">        512</td><td style=\"text-align: right;\">        512</td><td style=\"text-align: right;\">0.001</td><td style=\"text-align: right;\">        32</td><td style=\"text-align: right;\">         15</td><td style=\"text-align: right;\">            15</td><td style=\"text-align: right;\">0.2478  </td><td style=\"text-align: right;\">                   1</td></tr>\n",
       "<tr><td>DEFAULT_eb178_00026</td><td>TERMINATED</td><td>     </td><td style=\"text-align: right;\">         512</td><td style=\"text-align: right;\">          120</td><td style=\"text-align: right;\">          20</td><td style=\"text-align: right;\">        0.5</td><td style=\"text-align: right;\">        512</td><td style=\"text-align: right;\">        512</td><td style=\"text-align: right;\">0.001</td><td style=\"text-align: right;\">        32</td><td style=\"text-align: right;\">         15</td><td style=\"text-align: right;\">            15</td><td style=\"text-align: right;\">0.262015</td><td style=\"text-align: right;\">                   1</td></tr>\n",
       "<tr><td>DEFAULT_eb178_00027</td><td>TERMINATED</td><td>     </td><td style=\"text-align: right;\">         512</td><td style=\"text-align: right;\">          120</td><td style=\"text-align: right;\">          40</td><td style=\"text-align: right;\">        0.5</td><td style=\"text-align: right;\">        512</td><td style=\"text-align: right;\">        128</td><td style=\"text-align: right;\">0.001</td><td style=\"text-align: right;\">        64</td><td style=\"text-align: right;\">         15</td><td style=\"text-align: right;\">            15</td><td style=\"text-align: right;\">0.237086</td><td style=\"text-align: right;\">                   1</td></tr>\n",
       "<tr><td>DEFAULT_eb178_00028</td><td>TERMINATED</td><td>     </td><td style=\"text-align: right;\">         512</td><td style=\"text-align: right;\">          120</td><td style=\"text-align: right;\">          20</td><td style=\"text-align: right;\">        0.5</td><td style=\"text-align: right;\">        512</td><td style=\"text-align: right;\">        256</td><td style=\"text-align: right;\">0.001</td><td style=\"text-align: right;\">       256</td><td style=\"text-align: right;\">         30</td><td style=\"text-align: right;\">            15</td><td style=\"text-align: right;\">0.21846 </td><td style=\"text-align: right;\">                   2</td></tr>\n",
       "<tr><td>DEFAULT_eb178_00029</td><td>TERMINATED</td><td>     </td><td style=\"text-align: right;\">         512</td><td style=\"text-align: right;\">          120</td><td style=\"text-align: right;\">          40</td><td style=\"text-align: right;\">        0.5</td><td style=\"text-align: right;\">       1024</td><td style=\"text-align: right;\">        256</td><td style=\"text-align: right;\">0.001</td><td style=\"text-align: right;\">       256</td><td style=\"text-align: right;\">         30</td><td style=\"text-align: right;\">            15</td><td style=\"text-align: right;\">0.181328</td><td style=\"text-align: right;\">                   8</td></tr>\n",
       "<tr><td>DEFAULT_eb178_00030</td><td>TERMINATED</td><td>     </td><td style=\"text-align: right;\">         512</td><td style=\"text-align: right;\">          240</td><td style=\"text-align: right;\">          20</td><td style=\"text-align: right;\">        0.5</td><td style=\"text-align: right;\">        512</td><td style=\"text-align: right;\">        256</td><td style=\"text-align: right;\">0.001</td><td style=\"text-align: right;\">        32</td><td style=\"text-align: right;\">         30</td><td style=\"text-align: right;\">            15</td><td style=\"text-align: right;\">0.258129</td><td style=\"text-align: right;\">                   1</td></tr>\n",
       "<tr><td>DEFAULT_eb178_00031</td><td>TERMINATED</td><td>     </td><td style=\"text-align: right;\">         512</td><td style=\"text-align: right;\">          240</td><td style=\"text-align: right;\">          60</td><td style=\"text-align: right;\">        0.5</td><td style=\"text-align: right;\">       1024</td><td style=\"text-align: right;\">        256</td><td style=\"text-align: right;\">0.001</td><td style=\"text-align: right;\">       128</td><td style=\"text-align: right;\">         15</td><td style=\"text-align: right;\">            15</td><td style=\"text-align: right;\">0.169159</td><td style=\"text-align: right;\">                  10</td></tr>\n",
       "<tr><td>DEFAULT_eb178_00032</td><td>TERMINATED</td><td>     </td><td style=\"text-align: right;\">         512</td><td style=\"text-align: right;\">          120</td><td style=\"text-align: right;\">          20</td><td style=\"text-align: right;\">        0.5</td><td style=\"text-align: right;\">        512</td><td style=\"text-align: right;\">        128</td><td style=\"text-align: right;\">0.001</td><td style=\"text-align: right;\">        64</td><td style=\"text-align: right;\">         15</td><td style=\"text-align: right;\">            15</td><td style=\"text-align: right;\">0.291109</td><td style=\"text-align: right;\">                   1</td></tr>\n",
       "<tr><td>DEFAULT_eb178_00033</td><td>TERMINATED</td><td>     </td><td style=\"text-align: right;\">         512</td><td style=\"text-align: right;\">          240</td><td style=\"text-align: right;\">          40</td><td style=\"text-align: right;\">        0.5</td><td style=\"text-align: right;\">       1024</td><td style=\"text-align: right;\">        256</td><td style=\"text-align: right;\">0.001</td><td style=\"text-align: right;\">        64</td><td style=\"text-align: right;\">         30</td><td style=\"text-align: right;\">            15</td><td style=\"text-align: right;\">0.167258</td><td style=\"text-align: right;\">                  10</td></tr>\n",
       "<tr><td>DEFAULT_eb178_00034</td><td>TERMINATED</td><td>     </td><td style=\"text-align: right;\">         512</td><td style=\"text-align: right;\">          240</td><td style=\"text-align: right;\">          60</td><td style=\"text-align: right;\">        0.5</td><td style=\"text-align: right;\">        512</td><td style=\"text-align: right;\">        128</td><td style=\"text-align: right;\">0.001</td><td style=\"text-align: right;\">        64</td><td style=\"text-align: right;\">         30</td><td style=\"text-align: right;\">            15</td><td style=\"text-align: right;\">0.214403</td><td style=\"text-align: right;\">                   2</td></tr>\n",
       "<tr><td>DEFAULT_eb178_00035</td><td>TERMINATED</td><td>     </td><td style=\"text-align: right;\">         512</td><td style=\"text-align: right;\">          120</td><td style=\"text-align: right;\">          40</td><td style=\"text-align: right;\">        0.5</td><td style=\"text-align: right;\">       1024</td><td style=\"text-align: right;\">        256</td><td style=\"text-align: right;\">0.001</td><td style=\"text-align: right;\">       256</td><td style=\"text-align: right;\">         15</td><td style=\"text-align: right;\">            15</td><td style=\"text-align: right;\">0.202254</td><td style=\"text-align: right;\">                   4</td></tr>\n",
       "<tr><td>DEFAULT_eb178_00036</td><td>TERMINATED</td><td>     </td><td style=\"text-align: right;\">         512</td><td style=\"text-align: right;\">          120</td><td style=\"text-align: right;\">          40</td><td style=\"text-align: right;\">        0.5</td><td style=\"text-align: right;\">        512</td><td style=\"text-align: right;\">        512</td><td style=\"text-align: right;\">0.001</td><td style=\"text-align: right;\">        32</td><td style=\"text-align: right;\">         30</td><td style=\"text-align: right;\">            15</td><td style=\"text-align: right;\">0.178509</td><td style=\"text-align: right;\">                   8</td></tr>\n",
       "<tr><td>DEFAULT_eb178_00037</td><td>TERMINATED</td><td>     </td><td style=\"text-align: right;\">         512</td><td style=\"text-align: right;\">          120</td><td style=\"text-align: right;\">          20</td><td style=\"text-align: right;\">        0.5</td><td style=\"text-align: right;\">        512</td><td style=\"text-align: right;\">        128</td><td style=\"text-align: right;\">0.001</td><td style=\"text-align: right;\">        64</td><td style=\"text-align: right;\">         15</td><td style=\"text-align: right;\">            15</td><td style=\"text-align: right;\">0.25014 </td><td style=\"text-align: right;\">                   1</td></tr>\n",
       "<tr><td>DEFAULT_eb178_00038</td><td>TERMINATED</td><td>     </td><td style=\"text-align: right;\">         512</td><td style=\"text-align: right;\">          240</td><td style=\"text-align: right;\">          40</td><td style=\"text-align: right;\">        0.5</td><td style=\"text-align: right;\">       1024</td><td style=\"text-align: right;\">        256</td><td style=\"text-align: right;\">0.001</td><td style=\"text-align: right;\">       256</td><td style=\"text-align: right;\">         15</td><td style=\"text-align: right;\">            15</td><td style=\"text-align: right;\">0.225327</td><td style=\"text-align: right;\">                   2</td></tr>\n",
       "<tr><td>DEFAULT_eb178_00039</td><td>TERMINATED</td><td>     </td><td style=\"text-align: right;\">         512</td><td style=\"text-align: right;\">          240</td><td style=\"text-align: right;\">          40</td><td style=\"text-align: right;\">        0.5</td><td style=\"text-align: right;\">       1024</td><td style=\"text-align: right;\">        256</td><td style=\"text-align: right;\">0.001</td><td style=\"text-align: right;\">        64</td><td style=\"text-align: right;\">         30</td><td style=\"text-align: right;\">            15</td><td style=\"text-align: right;\">0.240801</td><td style=\"text-align: right;\">                   1</td></tr>\n",
       "</tbody>\n",
       "</table><br><br>"
      ],
      "text/plain": [
       "<IPython.core.display.HTML object>"
      ]
     },
     "metadata": {},
     "output_type": "display_data"
    },
    {
     "name": "stderr",
     "output_type": "stream",
     "text": [
      "2021-08-20 19:35:59,580\tINFO tune.py:550 -- Total run time: 4490.72 seconds (4490.48 seconds for the tuning loop).\n"
     ]
    },
    {
     "name": "stdout",
     "output_type": "stream",
     "text": [
      "Best trial config: {'cnn_filters': 240, 'cnn_kernel': 40, 'pool_size': 30, 'pool_strides': 15, 'lstm_out': 64, 'fc1_nodes': 1024, 'fc2_nodes': 256, 'drop_prob': 0.5, 'lr': 0.001, 'batch_size': 512}\n",
      "Best trial final validation loss: 0.1672579643897491\n"
     ]
    }
   ],
   "source": [
    "if __name__ == \"__main__\":\n",
    "    # You can change the number of GPUs per trial here:\n",
    "    best_trial = main(args, num_samples=40, max_num_epochs=25, gpus_per_trial=1)"
   ]
  },
  {
   "cell_type": "code",
   "execution_count": null,
   "id": "6a200aca",
   "metadata": {},
   "outputs": [],
   "source": []
  },
  {
   "cell_type": "code",
   "execution_count": null,
   "id": "65457367",
   "metadata": {},
   "outputs": [],
   "source": []
  },
  {
   "cell_type": "code",
   "execution_count": null,
   "id": "ab4ab900",
   "metadata": {},
   "outputs": [],
   "source": []
  },
  {
   "cell_type": "code",
   "execution_count": null,
   "id": "dd935840",
   "metadata": {},
   "outputs": [],
   "source": []
  },
  {
   "cell_type": "code",
   "execution_count": null,
   "id": "e0e649c5",
   "metadata": {},
   "outputs": [],
   "source": []
  },
  {
   "cell_type": "code",
   "execution_count": null,
   "id": "b6fc773e",
   "metadata": {},
   "outputs": [],
   "source": []
  },
  {
   "cell_type": "code",
   "execution_count": 9,
   "id": "65f3fa9e",
   "metadata": {
    "scrolled": false
   },
   "outputs": [
    {
     "data": {
      "text/html": [
       "== Status ==<br>Memory usage on this node: 24.4/251.5 GiB<br>Using AsyncHyperBand: num_stopped=39\n",
       "Bracket: Iter 16.000: None | Iter 8.000: -0.19207287526292965 | Iter 4.000: -0.19672493736195093 | Iter 2.000: -0.20483034365985653 | Iter 1.000: -0.26044537001612167<br>Resources requested: 0/24 CPUs, 0/4 GPUs, 0.0/153.1 GiB heap, 0.0/69.6 GiB objects (0.0/1.0 accelerator_type:K80, 0.0/1.0 GPU_group_77caa1fd5ad918be73c82a8454783f20, 0.0/4.0 CPU_group_77caa1fd5ad918be73c82a8454783f20, 0.0/1.0 GPU_group_0_77caa1fd5ad918be73c82a8454783f20, 0.0/4.0 CPU_group_0_77caa1fd5ad918be73c82a8454783f20)<br>Result logdir: /storage/home/dzb5732/scratch/DEFAULT_2021-08-20_12-17-12<br>Number of trials: 40/40 (40 TERMINATED)<br><table>\n",
       "<thead>\n",
       "<tr><th>Trial name         </th><th>status    </th><th>loc  </th><th style=\"text-align: right;\">  batch_size</th><th style=\"text-align: right;\">  cnn_filters</th><th style=\"text-align: right;\">  cnn_kernel</th><th style=\"text-align: right;\">  drop_prob</th><th style=\"text-align: right;\">  fc1_nodes</th><th style=\"text-align: right;\">  fc2_nodes</th><th style=\"text-align: right;\">    lr</th><th style=\"text-align: right;\">  pool_size</th><th style=\"text-align: right;\">  pool_strides</th><th style=\"text-align: right;\">    loss</th><th style=\"text-align: right;\">  training_iteration</th></tr>\n",
       "</thead>\n",
       "<tbody>\n",
       "<tr><td>DEFAULT_1356b_00000</td><td>TERMINATED</td><td>     </td><td style=\"text-align: right;\">         512</td><td style=\"text-align: right;\">          240</td><td style=\"text-align: right;\">          40</td><td style=\"text-align: right;\">        0.5</td><td style=\"text-align: right;\">        512</td><td style=\"text-align: right;\">        128</td><td style=\"text-align: right;\">0.001 </td><td style=\"text-align: right;\">         15</td><td style=\"text-align: right;\">            15</td><td style=\"text-align: right;\">0.182842</td><td style=\"text-align: right;\">                  10</td></tr>\n",
       "<tr><td>DEFAULT_1356b_00001</td><td>TERMINATED</td><td>     </td><td style=\"text-align: right;\">         128</td><td style=\"text-align: right;\">           80</td><td style=\"text-align: right;\">          20</td><td style=\"text-align: right;\">        0.5</td><td style=\"text-align: right;\">        512</td><td style=\"text-align: right;\">        256</td><td style=\"text-align: right;\">0.0001</td><td style=\"text-align: right;\">         30</td><td style=\"text-align: right;\">            15</td><td style=\"text-align: right;\">0.425668</td><td style=\"text-align: right;\">                   1</td></tr>\n",
       "<tr><td>DEFAULT_1356b_00002</td><td>TERMINATED</td><td>     </td><td style=\"text-align: right;\">         128</td><td style=\"text-align: right;\">          120</td><td style=\"text-align: right;\">          60</td><td style=\"text-align: right;\">        0.5</td><td style=\"text-align: right;\">        512</td><td style=\"text-align: right;\">        256</td><td style=\"text-align: right;\">0.001 </td><td style=\"text-align: right;\">         15</td><td style=\"text-align: right;\">            15</td><td style=\"text-align: right;\">0.213006</td><td style=\"text-align: right;\">                   1</td></tr>\n",
       "<tr><td>DEFAULT_1356b_00003</td><td>TERMINATED</td><td>     </td><td style=\"text-align: right;\">         128</td><td style=\"text-align: right;\">           80</td><td style=\"text-align: right;\">          60</td><td style=\"text-align: right;\">        0.5</td><td style=\"text-align: right;\">       1024</td><td style=\"text-align: right;\">        128</td><td style=\"text-align: right;\">0.001 </td><td style=\"text-align: right;\">         30</td><td style=\"text-align: right;\">            15</td><td style=\"text-align: right;\">0.211352</td><td style=\"text-align: right;\">                   1</td></tr>\n",
       "<tr><td>DEFAULT_1356b_00004</td><td>TERMINATED</td><td>     </td><td style=\"text-align: right;\">         256</td><td style=\"text-align: right;\">          120</td><td style=\"text-align: right;\">          60</td><td style=\"text-align: right;\">        0.5</td><td style=\"text-align: right;\">       1024</td><td style=\"text-align: right;\">         64</td><td style=\"text-align: right;\">0.001 </td><td style=\"text-align: right;\">         30</td><td style=\"text-align: right;\">            15</td><td style=\"text-align: right;\">0.217837</td><td style=\"text-align: right;\">                   1</td></tr>\n",
       "<tr><td>DEFAULT_1356b_00005</td><td>TERMINATED</td><td>     </td><td style=\"text-align: right;\">         128</td><td style=\"text-align: right;\">           80</td><td style=\"text-align: right;\">          20</td><td style=\"text-align: right;\">        0.5</td><td style=\"text-align: right;\">       1024</td><td style=\"text-align: right;\">        256</td><td style=\"text-align: right;\">0.001 </td><td style=\"text-align: right;\">         15</td><td style=\"text-align: right;\">            15</td><td style=\"text-align: right;\">0.226068</td><td style=\"text-align: right;\">                   1</td></tr>\n",
       "<tr><td>DEFAULT_1356b_00006</td><td>TERMINATED</td><td>     </td><td style=\"text-align: right;\">         128</td><td style=\"text-align: right;\">          240</td><td style=\"text-align: right;\">          40</td><td style=\"text-align: right;\">        0.5</td><td style=\"text-align: right;\">        512</td><td style=\"text-align: right;\">         64</td><td style=\"text-align: right;\">0.001 </td><td style=\"text-align: right;\">         15</td><td style=\"text-align: right;\">            15</td><td style=\"text-align: right;\">0.196725</td><td style=\"text-align: right;\">                   4</td></tr>\n",
       "<tr><td>DEFAULT_1356b_00007</td><td>TERMINATED</td><td>     </td><td style=\"text-align: right;\">         512</td><td style=\"text-align: right;\">          240</td><td style=\"text-align: right;\">          20</td><td style=\"text-align: right;\">        0.5</td><td style=\"text-align: right;\">        512</td><td style=\"text-align: right;\">         64</td><td style=\"text-align: right;\">0.001 </td><td style=\"text-align: right;\">         30</td><td style=\"text-align: right;\">            15</td><td style=\"text-align: right;\">0.237534</td><td style=\"text-align: right;\">                   1</td></tr>\n",
       "<tr><td>DEFAULT_1356b_00008</td><td>TERMINATED</td><td>     </td><td style=\"text-align: right;\">         256</td><td style=\"text-align: right;\">          120</td><td style=\"text-align: right;\">          20</td><td style=\"text-align: right;\">        0.5</td><td style=\"text-align: right;\">        512</td><td style=\"text-align: right;\">         64</td><td style=\"text-align: right;\">0.0001</td><td style=\"text-align: right;\">         30</td><td style=\"text-align: right;\">            15</td><td style=\"text-align: right;\">0.478181</td><td style=\"text-align: right;\">                   1</td></tr>\n",
       "<tr><td>DEFAULT_1356b_00009</td><td>TERMINATED</td><td>     </td><td style=\"text-align: right;\">         128</td><td style=\"text-align: right;\">          200</td><td style=\"text-align: right;\">          40</td><td style=\"text-align: right;\">        0.5</td><td style=\"text-align: right;\">        512</td><td style=\"text-align: right;\">        128</td><td style=\"text-align: right;\">0.001 </td><td style=\"text-align: right;\">         30</td><td style=\"text-align: right;\">            15</td><td style=\"text-align: right;\">0.199999</td><td style=\"text-align: right;\">                   2</td></tr>\n",
       "<tr><td>DEFAULT_1356b_00010</td><td>TERMINATED</td><td>     </td><td style=\"text-align: right;\">         256</td><td style=\"text-align: right;\">          200</td><td style=\"text-align: right;\">          20</td><td style=\"text-align: right;\">        0.5</td><td style=\"text-align: right;\">       1024</td><td style=\"text-align: right;\">         64</td><td style=\"text-align: right;\">0.001 </td><td style=\"text-align: right;\">         15</td><td style=\"text-align: right;\">            15</td><td style=\"text-align: right;\">0.222655</td><td style=\"text-align: right;\">                   1</td></tr>\n",
       "<tr><td>DEFAULT_1356b_00011</td><td>TERMINATED</td><td>     </td><td style=\"text-align: right;\">         128</td><td style=\"text-align: right;\">          120</td><td style=\"text-align: right;\">          60</td><td style=\"text-align: right;\">        0.5</td><td style=\"text-align: right;\">       1024</td><td style=\"text-align: right;\">         64</td><td style=\"text-align: right;\">0.0001</td><td style=\"text-align: right;\">         15</td><td style=\"text-align: right;\">            15</td><td style=\"text-align: right;\">0.428166</td><td style=\"text-align: right;\">                   1</td></tr>\n",
       "<tr><td>DEFAULT_1356b_00012</td><td>TERMINATED</td><td>     </td><td style=\"text-align: right;\">         512</td><td style=\"text-align: right;\">          120</td><td style=\"text-align: right;\">          40</td><td style=\"text-align: right;\">        0.5</td><td style=\"text-align: right;\">        512</td><td style=\"text-align: right;\">        128</td><td style=\"text-align: right;\">0.0001</td><td style=\"text-align: right;\">         15</td><td style=\"text-align: right;\">            15</td><td style=\"text-align: right;\">0.549034</td><td style=\"text-align: right;\">                   1</td></tr>\n",
       "<tr><td>DEFAULT_1356b_00013</td><td>TERMINATED</td><td>     </td><td style=\"text-align: right;\">         256</td><td style=\"text-align: right;\">          200</td><td style=\"text-align: right;\">          60</td><td style=\"text-align: right;\">        0.5</td><td style=\"text-align: right;\">       1024</td><td style=\"text-align: right;\">        256</td><td style=\"text-align: right;\">0.0001</td><td style=\"text-align: right;\">         30</td><td style=\"text-align: right;\">            15</td><td style=\"text-align: right;\">0.446836</td><td style=\"text-align: right;\">                   1</td></tr>\n",
       "<tr><td>DEFAULT_1356b_00014</td><td>TERMINATED</td><td>     </td><td style=\"text-align: right;\">         256</td><td style=\"text-align: right;\">          240</td><td style=\"text-align: right;\">          20</td><td style=\"text-align: right;\">        0.5</td><td style=\"text-align: right;\">       1024</td><td style=\"text-align: right;\">        128</td><td style=\"text-align: right;\">0.0001</td><td style=\"text-align: right;\">         15</td><td style=\"text-align: right;\">            15</td><td style=\"text-align: right;\">0.539611</td><td style=\"text-align: right;\">                   1</td></tr>\n",
       "<tr><td>DEFAULT_1356b_00015</td><td>TERMINATED</td><td>     </td><td style=\"text-align: right;\">         256</td><td style=\"text-align: right;\">           80</td><td style=\"text-align: right;\">          40</td><td style=\"text-align: right;\">        0.5</td><td style=\"text-align: right;\">       1024</td><td style=\"text-align: right;\">         64</td><td style=\"text-align: right;\">0.001 </td><td style=\"text-align: right;\">         15</td><td style=\"text-align: right;\">            15</td><td style=\"text-align: right;\">0.201657</td><td style=\"text-align: right;\">                   2</td></tr>\n",
       "<tr><td>DEFAULT_1356b_00016</td><td>TERMINATED</td><td>     </td><td style=\"text-align: right;\">         256</td><td style=\"text-align: right;\">          240</td><td style=\"text-align: right;\">          60</td><td style=\"text-align: right;\">        0.5</td><td style=\"text-align: right;\">       1024</td><td style=\"text-align: right;\">        256</td><td style=\"text-align: right;\">0.001 </td><td style=\"text-align: right;\">         15</td><td style=\"text-align: right;\">            15</td><td style=\"text-align: right;\">0.205294</td><td style=\"text-align: right;\">                   2</td></tr>\n",
       "<tr><td>DEFAULT_1356b_00017</td><td>TERMINATED</td><td>     </td><td style=\"text-align: right;\">         512</td><td style=\"text-align: right;\">          200</td><td style=\"text-align: right;\">          60</td><td style=\"text-align: right;\">        0.5</td><td style=\"text-align: right;\">        512</td><td style=\"text-align: right;\">        128</td><td style=\"text-align: right;\">0.0001</td><td style=\"text-align: right;\">         30</td><td style=\"text-align: right;\">            15</td><td style=\"text-align: right;\">0.517913</td><td style=\"text-align: right;\">                   1</td></tr>\n",
       "<tr><td>DEFAULT_1356b_00018</td><td>TERMINATED</td><td>     </td><td style=\"text-align: right;\">         128</td><td style=\"text-align: right;\">          120</td><td style=\"text-align: right;\">          60</td><td style=\"text-align: right;\">        0.5</td><td style=\"text-align: right;\">        512</td><td style=\"text-align: right;\">        128</td><td style=\"text-align: right;\">0.0001</td><td style=\"text-align: right;\">         30</td><td style=\"text-align: right;\">            15</td><td style=\"text-align: right;\">0.310599</td><td style=\"text-align: right;\">                   1</td></tr>\n",
       "<tr><td>DEFAULT_1356b_00019</td><td>TERMINATED</td><td>     </td><td style=\"text-align: right;\">         256</td><td style=\"text-align: right;\">          240</td><td style=\"text-align: right;\">          40</td><td style=\"text-align: right;\">        0.5</td><td style=\"text-align: right;\">        512</td><td style=\"text-align: right;\">         64</td><td style=\"text-align: right;\">0.0001</td><td style=\"text-align: right;\">         30</td><td style=\"text-align: right;\">            15</td><td style=\"text-align: right;\">0.459195</td><td style=\"text-align: right;\">                   1</td></tr>\n",
       "<tr><td>DEFAULT_1356b_00020</td><td>TERMINATED</td><td>     </td><td style=\"text-align: right;\">         256</td><td style=\"text-align: right;\">          120</td><td style=\"text-align: right;\">          40</td><td style=\"text-align: right;\">        0.5</td><td style=\"text-align: right;\">       1024</td><td style=\"text-align: right;\">        256</td><td style=\"text-align: right;\">0.0001</td><td style=\"text-align: right;\">         15</td><td style=\"text-align: right;\">            15</td><td style=\"text-align: right;\">0.509383</td><td style=\"text-align: right;\">                   1</td></tr>\n",
       "<tr><td>DEFAULT_1356b_00021</td><td>TERMINATED</td><td>     </td><td style=\"text-align: right;\">         128</td><td style=\"text-align: right;\">          240</td><td style=\"text-align: right;\">          20</td><td style=\"text-align: right;\">        0.5</td><td style=\"text-align: right;\">       1024</td><td style=\"text-align: right;\">         64</td><td style=\"text-align: right;\">0.0001</td><td style=\"text-align: right;\">         30</td><td style=\"text-align: right;\">            15</td><td style=\"text-align: right;\">0.448114</td><td style=\"text-align: right;\">                   1</td></tr>\n",
       "<tr><td>DEFAULT_1356b_00022</td><td>TERMINATED</td><td>     </td><td style=\"text-align: right;\">         512</td><td style=\"text-align: right;\">          120</td><td style=\"text-align: right;\">          20</td><td style=\"text-align: right;\">        0.5</td><td style=\"text-align: right;\">        512</td><td style=\"text-align: right;\">        256</td><td style=\"text-align: right;\">0.0001</td><td style=\"text-align: right;\">         15</td><td style=\"text-align: right;\">            15</td><td style=\"text-align: right;\">0.548877</td><td style=\"text-align: right;\">                   1</td></tr>\n",
       "<tr><td>DEFAULT_1356b_00023</td><td>TERMINATED</td><td>     </td><td style=\"text-align: right;\">         128</td><td style=\"text-align: right;\">          200</td><td style=\"text-align: right;\">          60</td><td style=\"text-align: right;\">        0.5</td><td style=\"text-align: right;\">        512</td><td style=\"text-align: right;\">        128</td><td style=\"text-align: right;\">0.0001</td><td style=\"text-align: right;\">         30</td><td style=\"text-align: right;\">            15</td><td style=\"text-align: right;\">0.322799</td><td style=\"text-align: right;\">                   1</td></tr>\n",
       "<tr><td>DEFAULT_1356b_00024</td><td>TERMINATED</td><td>     </td><td style=\"text-align: right;\">         512</td><td style=\"text-align: right;\">           80</td><td style=\"text-align: right;\">          20</td><td style=\"text-align: right;\">        0.5</td><td style=\"text-align: right;\">       1024</td><td style=\"text-align: right;\">        256</td><td style=\"text-align: right;\">0.001 </td><td style=\"text-align: right;\">         30</td><td style=\"text-align: right;\">            15</td><td style=\"text-align: right;\">0.23274 </td><td style=\"text-align: right;\">                   2</td></tr>\n",
       "<tr><td>DEFAULT_1356b_00025</td><td>TERMINATED</td><td>     </td><td style=\"text-align: right;\">         128</td><td style=\"text-align: right;\">          120</td><td style=\"text-align: right;\">          40</td><td style=\"text-align: right;\">        0.5</td><td style=\"text-align: right;\">        512</td><td style=\"text-align: right;\">         64</td><td style=\"text-align: right;\">0.001 </td><td style=\"text-align: right;\">         30</td><td style=\"text-align: right;\">            15</td><td style=\"text-align: right;\">0.207672</td><td style=\"text-align: right;\">                   2</td></tr>\n",
       "<tr><td>DEFAULT_1356b_00026</td><td>TERMINATED</td><td>     </td><td style=\"text-align: right;\">         256</td><td style=\"text-align: right;\">          240</td><td style=\"text-align: right;\">          60</td><td style=\"text-align: right;\">        0.5</td><td style=\"text-align: right;\">        512</td><td style=\"text-align: right;\">        256</td><td style=\"text-align: right;\">0.0001</td><td style=\"text-align: right;\">         30</td><td style=\"text-align: right;\">            15</td><td style=\"text-align: right;\">0.429947</td><td style=\"text-align: right;\">                   1</td></tr>\n",
       "<tr><td>DEFAULT_1356b_00027</td><td>TERMINATED</td><td>     </td><td style=\"text-align: right;\">         512</td><td style=\"text-align: right;\">          240</td><td style=\"text-align: right;\">          20</td><td style=\"text-align: right;\">        0.5</td><td style=\"text-align: right;\">        512</td><td style=\"text-align: right;\">        256</td><td style=\"text-align: right;\">0.001 </td><td style=\"text-align: right;\">         15</td><td style=\"text-align: right;\">            15</td><td style=\"text-align: right;\">0.224405</td><td style=\"text-align: right;\">                   2</td></tr>\n",
       "<tr><td>DEFAULT_1356b_00028</td><td>TERMINATED</td><td>     </td><td style=\"text-align: right;\">         256</td><td style=\"text-align: right;\">          120</td><td style=\"text-align: right;\">          40</td><td style=\"text-align: right;\">        0.5</td><td style=\"text-align: right;\">       1024</td><td style=\"text-align: right;\">        128</td><td style=\"text-align: right;\">0.001 </td><td style=\"text-align: right;\">         30</td><td style=\"text-align: right;\">            15</td><td style=\"text-align: right;\">0.195798</td><td style=\"text-align: right;\">                   8</td></tr>\n",
       "<tr><td>DEFAULT_1356b_00029</td><td>TERMINATED</td><td>     </td><td style=\"text-align: right;\">         128</td><td style=\"text-align: right;\">          240</td><td style=\"text-align: right;\">          60</td><td style=\"text-align: right;\">        0.5</td><td style=\"text-align: right;\">       1024</td><td style=\"text-align: right;\">        256</td><td style=\"text-align: right;\">0.0001</td><td style=\"text-align: right;\">         30</td><td style=\"text-align: right;\">            15</td><td style=\"text-align: right;\">0.314798</td><td style=\"text-align: right;\">                   1</td></tr>\n",
       "<tr><td>DEFAULT_1356b_00030</td><td>TERMINATED</td><td>     </td><td style=\"text-align: right;\">         512</td><td style=\"text-align: right;\">          120</td><td style=\"text-align: right;\">          60</td><td style=\"text-align: right;\">        0.5</td><td style=\"text-align: right;\">       1024</td><td style=\"text-align: right;\">        128</td><td style=\"text-align: right;\">0.001 </td><td style=\"text-align: right;\">         30</td><td style=\"text-align: right;\">            15</td><td style=\"text-align: right;\">0.214021</td><td style=\"text-align: right;\">                   2</td></tr>\n",
       "<tr><td>DEFAULT_1356b_00031</td><td>TERMINATED</td><td>     </td><td style=\"text-align: right;\">         128</td><td style=\"text-align: right;\">          240</td><td style=\"text-align: right;\">          20</td><td style=\"text-align: right;\">        0.5</td><td style=\"text-align: right;\">        512</td><td style=\"text-align: right;\">         64</td><td style=\"text-align: right;\">0.001 </td><td style=\"text-align: right;\">         15</td><td style=\"text-align: right;\">            15</td><td style=\"text-align: right;\">0.208909</td><td style=\"text-align: right;\">                   2</td></tr>\n",
       "<tr><td>DEFAULT_1356b_00032</td><td>TERMINATED</td><td>     </td><td style=\"text-align: right;\">         256</td><td style=\"text-align: right;\">          120</td><td style=\"text-align: right;\">          60</td><td style=\"text-align: right;\">        0.5</td><td style=\"text-align: right;\">        512</td><td style=\"text-align: right;\">        128</td><td style=\"text-align: right;\">0.001 </td><td style=\"text-align: right;\">         15</td><td style=\"text-align: right;\">            15</td><td style=\"text-align: right;\">0.209971</td><td style=\"text-align: right;\">                   2</td></tr>\n",
       "<tr><td>DEFAULT_1356b_00033</td><td>TERMINATED</td><td>     </td><td style=\"text-align: right;\">         256</td><td style=\"text-align: right;\">          120</td><td style=\"text-align: right;\">          40</td><td style=\"text-align: right;\">        0.5</td><td style=\"text-align: right;\">       1024</td><td style=\"text-align: right;\">        128</td><td style=\"text-align: right;\">0.001 </td><td style=\"text-align: right;\">         30</td><td style=\"text-align: right;\">            15</td><td style=\"text-align: right;\">0.204852</td><td style=\"text-align: right;\">                   4</td></tr>\n",
       "<tr><td>DEFAULT_1356b_00034</td><td>TERMINATED</td><td>     </td><td style=\"text-align: right;\">         512</td><td style=\"text-align: right;\">          120</td><td style=\"text-align: right;\">          60</td><td style=\"text-align: right;\">        0.5</td><td style=\"text-align: right;\">       1024</td><td style=\"text-align: right;\">         64</td><td style=\"text-align: right;\">0.001 </td><td style=\"text-align: right;\">         30</td><td style=\"text-align: right;\">            15</td><td style=\"text-align: right;\">0.205147</td><td style=\"text-align: right;\">                   4</td></tr>\n",
       "<tr><td>DEFAULT_1356b_00035</td><td>TERMINATED</td><td>     </td><td style=\"text-align: right;\">         512</td><td style=\"text-align: right;\">          120</td><td style=\"text-align: right;\">          20</td><td style=\"text-align: right;\">        0.5</td><td style=\"text-align: right;\">        512</td><td style=\"text-align: right;\">        256</td><td style=\"text-align: right;\">0.001 </td><td style=\"text-align: right;\">         15</td><td style=\"text-align: right;\">            15</td><td style=\"text-align: right;\">0.262433</td><td style=\"text-align: right;\">                   1</td></tr>\n",
       "<tr><td>DEFAULT_1356b_00036</td><td>TERMINATED</td><td>     </td><td style=\"text-align: right;\">         128</td><td style=\"text-align: right;\">          200</td><td style=\"text-align: right;\">          40</td><td style=\"text-align: right;\">        0.5</td><td style=\"text-align: right;\">        512</td><td style=\"text-align: right;\">        256</td><td style=\"text-align: right;\">0.0001</td><td style=\"text-align: right;\">         15</td><td style=\"text-align: right;\">            15</td><td style=\"text-align: right;\">0.425863</td><td style=\"text-align: right;\">                   1</td></tr>\n",
       "<tr><td>DEFAULT_1356b_00037</td><td>TERMINATED</td><td>     </td><td style=\"text-align: right;\">         256</td><td style=\"text-align: right;\">           80</td><td style=\"text-align: right;\">          20</td><td style=\"text-align: right;\">        0.5</td><td style=\"text-align: right;\">       1024</td><td style=\"text-align: right;\">         64</td><td style=\"text-align: right;\">0.0001</td><td style=\"text-align: right;\">         30</td><td style=\"text-align: right;\">            15</td><td style=\"text-align: right;\">0.499701</td><td style=\"text-align: right;\">                   1</td></tr>\n",
       "<tr><td>DEFAULT_1356b_00038</td><td>TERMINATED</td><td>     </td><td style=\"text-align: right;\">         128</td><td style=\"text-align: right;\">          120</td><td style=\"text-align: right;\">          20</td><td style=\"text-align: right;\">        0.5</td><td style=\"text-align: right;\">       1024</td><td style=\"text-align: right;\">        128</td><td style=\"text-align: right;\">0.0001</td><td style=\"text-align: right;\">         15</td><td style=\"text-align: right;\">            15</td><td style=\"text-align: right;\">0.459711</td><td style=\"text-align: right;\">                   1</td></tr>\n",
       "<tr><td>DEFAULT_1356b_00039</td><td>TERMINATED</td><td>     </td><td style=\"text-align: right;\">         256</td><td style=\"text-align: right;\">          240</td><td style=\"text-align: right;\">          40</td><td style=\"text-align: right;\">        0.5</td><td style=\"text-align: right;\">       1024</td><td style=\"text-align: right;\">        256</td><td style=\"text-align: right;\">0.0001</td><td style=\"text-align: right;\">         15</td><td style=\"text-align: right;\">            15</td><td style=\"text-align: right;\">0.475919</td><td style=\"text-align: right;\">                   1</td></tr>\n",
       "</tbody>\n",
       "</table><br><br>"
      ],
      "text/plain": [
       "<IPython.core.display.HTML object>"
      ]
     },
     "metadata": {},
     "output_type": "display_data"
    },
    {
     "name": "stderr",
     "output_type": "stream",
     "text": [
      "2021-08-20 13:03:19,018\tINFO tune.py:550 -- Total run time: 2766.97 seconds (2766.66 seconds for the tuning loop).\n"
     ]
    },
    {
     "name": "stdout",
     "output_type": "stream",
     "text": [
      "Best trial config: {'cnn_filters': 240, 'cnn_kernel': 40, 'pool_size': 15, 'pool_strides': 15, 'fc1_nodes': 512, 'fc2_nodes': 128, 'drop_prob': 0.5, 'lr': 0.001, 'batch_size': 512}\n",
      "Best trial final validation loss: 0.18284228635896552\n"
     ]
    }
   ],
   "source": [
    "### CNN HPOPT\n",
    "\n",
    "if __name__ == \"__main__\":\n",
    "    # You can change the number of GPUs per trial here:\n",
    "    best_trial = main(args, num_samples=40, max_num_epochs=25, gpus_per_trial=1)"
   ]
  },
  {
   "cell_type": "markdown",
   "id": "e2d20401",
   "metadata": {},
   "source": [
    "# Scratch"
   ]
  },
  {
   "cell_type": "code",
   "execution_count": null,
   "id": "46d8b1e1",
   "metadata": {},
   "outputs": [],
   "source": []
  }
 ],
 "metadata": {
  "kernelspec": {
   "display_name": "Python 3",
   "language": "python",
   "name": "python3"
  },
  "language_info": {
   "codemirror_mode": {
    "name": "ipython",
    "version": 3
   },
   "file_extension": ".py",
   "mimetype": "text/x-python",
   "name": "python",
   "nbconvert_exporter": "python",
   "pygments_lexer": "ipython3",
   "version": "3.7.10"
  }
 },
 "nbformat": 4,
 "nbformat_minor": 5
}
